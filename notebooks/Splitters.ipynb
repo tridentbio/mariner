{
 "cells": [
  {
   "cell_type": "code",
   "execution_count": 1,
   "id": "a65c3f9f-df58-40e4-bac6-a78c685d9e17",
   "metadata": {},
   "outputs": [],
   "source": [
    "import numpy as np\n",
    "import pandas as pd\n",
    "from typing import Optional\n",
    "\n",
    "from rdkit import Chem\n",
    "from rdkit.Chem.Scaffolds.MurckoScaffold import MurckoScaffoldSmiles"
   ]
  },
  {
   "cell_type": "code",
   "execution_count": 2,
   "id": "e846f245-dd93-4c89-80c2-82c200c1395e",
   "metadata": {},
   "outputs": [
    {
     "data": {
      "text/html": [
       "<div>\n",
       "<style scoped>\n",
       "    .dataframe tbody tr th:only-of-type {\n",
       "        vertical-align: middle;\n",
       "    }\n",
       "\n",
       "    .dataframe tbody tr th {\n",
       "        vertical-align: top;\n",
       "    }\n",
       "\n",
       "    .dataframe thead th {\n",
       "        text-align: right;\n",
       "    }\n",
       "</style>\n",
       "<table border=\"1\" class=\"dataframe\">\n",
       "  <thead>\n",
       "    <tr style=\"text-align: right;\">\n",
       "      <th></th>\n",
       "      <th>zinc_id</th>\n",
       "      <th>smiles</th>\n",
       "      <th>mwt</th>\n",
       "      <th>tpsa</th>\n",
       "    </tr>\n",
       "  </thead>\n",
       "  <tbody>\n",
       "    <tr>\n",
       "      <th>0</th>\n",
       "      <td>ZINC000000322224</td>\n",
       "      <td>COC(=O)c1coc(CN(C(=O)CC(C)(C)C)C(C)C)n1</td>\n",
       "      <td>296.367</td>\n",
       "      <td>72.64</td>\n",
       "    </tr>\n",
       "    <tr>\n",
       "      <th>1</th>\n",
       "      <td>ZINC000000298890</td>\n",
       "      <td>COc1ccc(CC(=O)Nc2cccc3c2CCCC3)cc1OC</td>\n",
       "      <td>325.408</td>\n",
       "      <td>47.56</td>\n",
       "    </tr>\n",
       "    <tr>\n",
       "      <th>2</th>\n",
       "      <td>ZINC000000137437</td>\n",
       "      <td>O=C(CSCc1c(Cl)cccc1Cl)Nc1ccc(F)cc1</td>\n",
       "      <td>344.238</td>\n",
       "      <td>29.10</td>\n",
       "    </tr>\n",
       "    <tr>\n",
       "      <th>3</th>\n",
       "      <td>ZINC000000308278</td>\n",
       "      <td>O=C(CCn1[nH]c(=O)c2ccccc2c1=O)NCc1ccccc1</td>\n",
       "      <td>323.352</td>\n",
       "      <td>83.96</td>\n",
       "    </tr>\n",
       "    <tr>\n",
       "      <th>4</th>\n",
       "      <td>ZINC000000034421</td>\n",
       "      <td>Cc1cc(C)n(C[C@H](C)O)c(=O)c1C#N</td>\n",
       "      <td>206.245</td>\n",
       "      <td>66.02</td>\n",
       "    </tr>\n",
       "  </tbody>\n",
       "</table>\n",
       "</div>"
      ],
      "text/plain": [
       "            zinc_id                                    smiles      mwt   tpsa\n",
       "0  ZINC000000322224   COC(=O)c1coc(CN(C(=O)CC(C)(C)C)C(C)C)n1  296.367  72.64\n",
       "1  ZINC000000298890       COc1ccc(CC(=O)Nc2cccc3c2CCCC3)cc1OC  325.408  47.56\n",
       "2  ZINC000000137437        O=C(CSCc1c(Cl)cccc1Cl)Nc1ccc(F)cc1  344.238  29.10\n",
       "3  ZINC000000308278  O=C(CCn1[nH]c(=O)c2ccccc2c1=O)NCc1ccccc1  323.352  83.96\n",
       "4  ZINC000000034421           Cc1cc(C)n(C[C@H](C)O)c(=O)c1C#N  206.245  66.02"
      ]
     },
     "execution_count": 2,
     "metadata": {},
     "output_type": "execute_result"
    }
   ],
   "source": [
    "df = pd.read_csv('../app/tests/data/csv/zinc.csv', index_col='Unnamed: 0')\n",
    "df.head()"
   ]
  },
  {
   "cell_type": "code",
   "execution_count": 4,
   "id": "6e556874-0965-46a6-9b96-61d1b4e766ff",
   "metadata": {},
   "outputs": [
    {
     "data": {
      "image/png": "[encoded data removed]",
      "text/plain": [
       "<rdkit.Chem.rdchem.Mol at 0x7fa8a6696760>"
      ]
     },
     "execution_count": 4,
     "metadata": {},
     "output_type": "execute_result"
    }
   ],
   "source": [
    "mol = Chem.MolFromSmiles('COC(=O)c1coc(CN(C(=O)CC(C)(C)C)C(C)C)n1')\n",
    "mol"
   ]
  },
  {
   "cell_type": "code",
   "execution_count": 6,
   "id": "791fa6d5-8b66-4d0c-8dc7-2b04ce78a6e9",
   "metadata": {},
   "outputs": [
    {
     "data": {
      "text/plain": [
       "'c1cocn1'"
      ]
     },
     "execution_count": 6,
     "metadata": {},
     "output_type": "execute_result"
    }
   ],
   "source": [
    "scaffold = MurckoScaffoldSmiles(mol=mol, includeChirality=False)\n",
    "scaffold"
   ]
  },
  {
   "cell_type": "code",
   "execution_count": null,
   "id": "c8f30ba4-e2da-49aa-a4f3-065b21850d5d",
   "metadata": {},
   "outputs": [],
   "source": []
  },
  {
   "cell_type": "code",
   "execution_count": 4,
   "id": "600f500f-4420-4e74-825b-6aa9e60523e0",
   "metadata": {},
   "outputs": [],
   "source": [
    "def random_split(\n",
    "    dataset,\n",
    "    frac_train: float = 0.8,\n",
    "    frac_valid: float = 0.1,\n",
    "    frac_test: float = 0.1,\n",
    "    seed: Optional[int] = None,\n",
    "    log_every_n: Optional[int] = None\n",
    "):\n",
    "    np.testing.assert_almost_equal(frac_train + frac_valid + frac_test, 1.)\n",
    "\n",
    "    if seed is not None:\n",
    "        np.random.seed(seed)\n",
    "\n",
    "    num_datapoints = len(dataset)\n",
    "\n",
    "    train_cutoff = int(frac_train * num_datapoints)\n",
    "    valid_cutoff = int((frac_train + frac_valid) * num_datapoints)\n",
    "\n",
    "    # TODO: maybe there is a better way to shuffle the data before splitting\n",
    "    shuffled = np.random.permutation(range(num_datapoints))\n",
    "\n",
    "    return (shuffled[:train_cutoff], shuffled[train_cutoff:valid_cutoff], shuffled[valid_cutoff:])"
   ]
  },
  {
   "cell_type": "code",
   "execution_count": 11,
   "id": "037b9673-84b6-46af-9275-9e8b1be6eab0",
   "metadata": {},
   "outputs": [],
   "source": [
    "def _generate_scaffold(smiles: str, include_chirality: bool = False) -> str:\n",
    "    mol = Chem.MolFromSmiles(smiles)\n",
    "    scaffold = MurckoScaffoldSmiles(mol=mol, includeChirality=include_chirality)\n",
    "    return scaffold"
   ]
  },
  {
   "cell_type": "code",
   "execution_count": 6,
   "id": "8b04850b-34f4-44da-8fd8-5d98c4d62062",
   "metadata": {},
   "outputs": [],
   "source": [
    "def generate_scaffolds(dataset):\n",
    "    scaffolds = {}\n",
    "    data_len = len(dataset)\n",
    "\n",
    "    for ind, smiles in enumerate(dataset.ids):\n",
    "        scaffold = _generate_scaffold(smiles)\n",
    "        \n",
    "        if scaffold not in scaffolds:\n",
    "            scaffolds[scaffold] = [ind]\n",
    "        else:\n",
    "            scaffolds[scaffold].append(ind)\n",
    "\n",
    "    # Sort from largest to smallest scaffold sets\n",
    "    scaffolds = {key: sorted(value) for key, value in scaffolds.items()}\n",
    "    scaffold_sets = [\n",
    "        scaffold_set for (scaffold, scaffold_set) in sorted(\n",
    "            scaffolds.items(), key=lambda x: (len(x[1]), x[1][0]), reverse=True)\n",
    "    ]\n",
    "    return scaffold_sets"
   ]
  },
  {
   "cell_type": "code",
   "execution_count": 8,
   "id": "aaf95a29-e8e5-4899-a27a-9e7830ff76fd",
   "metadata": {},
   "outputs": [
    {
     "data": {
      "text/plain": [
       "501"
      ]
     },
     "execution_count": 8,
     "metadata": {},
     "output_type": "execute_result"
    }
   ],
   "source": [
    "scaffolds = {}\n",
    "data_len = len(df)\n",
    "data_len"
   ]
  },
  {
   "cell_type": "code",
   "execution_count": 12,
   "id": "231046d3-6db2-4609-84a8-b9e1e1c31add",
   "metadata": {},
   "outputs": [],
   "source": [
    "for ind, smiles in enumerate(df['smiles']):\n",
    "    scaffold = _generate_scaffold(smiles)\n",
    "    \n",
    "    if scaffold not in scaffolds:\n",
    "        scaffolds[scaffold] = [ind]\n",
    "    else:\n",
    "        scaffolds[scaffold].append(ind)"
   ]
  },
  {
   "cell_type": "code",
   "execution_count": 14,
   "id": "6de5134e-fe76-409d-9e63-42fad17c8b24",
   "metadata": {},
   "outputs": [],
   "source": [
    "scaffolds = {key: sorted(value) for key, value in scaffolds.items()}"
   ]
  },
  {
   "cell_type": "code",
   "execution_count": 16,
   "id": "a47a207f-a0bf-4f67-a7f1-46d900d3028a",
   "metadata": {},
   "outputs": [],
   "source": [
    "scaffold_sets = [ scaffold_set for (scaffold, scaffold_set) in sorted(scaffolds.items(), key=lambda x: (len(x[1]), x[1][0]), reverse=True) ]"
   ]
  },
  {
   "cell_type": "code",
   "execution_count": 17,
   "id": "c3700763-ed21-496d-983b-f788fad0a67b",
   "metadata": {},
   "outputs": [],
   "source": [
    "train_cutoff = 0.8 * len(df)\n",
    "valid_cutoff = (0.8 + 0.1) * len(df)\n",
    "\n",
    "train_inds = []\n",
    "valid_inds = []\n",
    "test_inds = []"
   ]
  },
  {
   "cell_type": "code",
   "execution_count": 18,
   "id": "ed6db224-b062-4161-ae67-5797ca3c58c1",
   "metadata": {},
   "outputs": [],
   "source": [
    "for scaffold_set in scaffold_sets:\n",
    "    if len(train_inds) + len(scaffold_set) > train_cutoff:\n",
    "        if len(train_inds) + len(valid_inds) + len(scaffold_set) > valid_cutoff:\n",
    "            test_inds += scaffold_set\n",
    "        else:\n",
    "            valid_inds += scaffold_set\n",
    "    else:\n",
    "        train_inds += scaffold_set"
   ]
  },
  {
   "cell_type": "code",
   "execution_count": 20,
   "id": "dd3b6256-6f7c-4824-82cf-4e62320f56e1",
   "metadata": {},
   "outputs": [
    {
     "data": {
      "text/plain": [
       "400"
      ]
     },
     "execution_count": 20,
     "metadata": {},
     "output_type": "execute_result"
    }
   ],
   "source": [
    "len(train_inds)"
   ]
  },
  {
   "cell_type": "code",
   "execution_count": 21,
   "id": "2ebfcf7f-2f7b-4457-8bde-f977b0768fc0",
   "metadata": {},
   "outputs": [
    {
     "data": {
      "text/plain": [
       "51"
      ]
     },
     "execution_count": 21,
     "metadata": {},
     "output_type": "execute_result"
    }
   ],
   "source": [
    "len(test_inds)"
   ]
  },
  {
   "cell_type": "code",
   "execution_count": 8,
   "id": "01d2cc09-cfee-46f2-aa04-ecac4e5d66c0",
   "metadata": {},
   "outputs": [],
   "source": [
    "def split(\n",
    "    dataset,\n",
    "    frac_train: float = 0.8,\n",
    "    frac_valid: float = 0.1,\n",
    "    frac_test: float = 0.1,\n",
    "    seed: Optional[int] = None,\n",
    "    log_every_n: Optional[int] = 1000\n",
    "):\n",
    "    np.testing.assert_almost_equal(frac_train + frac_valid + frac_test, 1.)\n",
    "    scaffold_sets = self.generate_scaffolds(dataset)\n",
    "\n",
    "    train_cutoff = frac_train * len(dataset)\n",
    "    valid_cutoff = (frac_train + frac_valid) * len(dataset)\n",
    "    train_inds: List[int] = []\n",
    "    valid_inds: List[int] = []\n",
    "    test_inds: List[int] = []\n",
    "\n",
    "    logger.info(\"About to sort in scaffold sets\")\n",
    "    for scaffold_set in scaffold_sets:\n",
    "        if len(train_inds) + len(scaffold_set) > train_cutoff:\n",
    "            if len(train_inds) + len(valid_inds) + len(scaffold_set) > valid_cutoff:\n",
    "                test_inds += scaffold_set\n",
    "            else:\n",
    "                valid_inds += scaffold_set\n",
    "        else:\n",
    "            train_inds += scaffold_set\n",
    "\n",
    "    return train_inds, valid_inds, test_inds"
   ]
  }
 ],
 "metadata": {
  "kernelspec": {
   "display_name": "Python 3 (ipykernel)",
   "language": "python",
   "name": "python3"
  },
  "language_info": {
   "codemirror_mode": {
    "name": "ipython",
    "version": 3
   },
   "file_extension": ".py",
   "mimetype": "text/x-python",
   "name": "python",
   "nbconvert_exporter": "python",
   "pygments_lexer": "ipython3",
   "version": "3.9.13"
  }
 },
 "nbformat": 4,
 "nbformat_minor": 5
}
