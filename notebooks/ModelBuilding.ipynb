{
 "cells": [
  {
   "cell_type": "markdown",
   "id": "ae8b99c1-334d-4128-8967-ea8f82e6ac31",
   "metadata": {},
   "source": [
    "### Data Module Example"
   ]
  },
  {
   "cell_type": "code",
   "execution_count": 1,
   "id": "611f5b48-5e15-4d5b-961f-ce603e6b07cc",
   "metadata": {},
   "outputs": [
    {
     "name": "stderr",
     "output_type": "stream",
     "text": [
      "/usr/local/lib/python3.9/site-packages/tqdm/auto.py:22: TqdmWarning: IProgress not found. Please update jupyter and ipywidgets. See https://ipywidgets.readthedocs.io/en/stable/user_install.html\n",
      "  from .autonotebook import tqdm as notebook_tqdm\n",
      "/usr/local/lib/python3.9/site-packages/requests/__init__.py:109: RequestsDependencyWarning: urllib3 (1.26.9) or chardet (5.0.0)/charset_normalizer (2.0.12) doesn't match a supported version!\n",
      "  warnings.warn(\n"
     ]
    }
   ],
   "source": [
    "import pandas as pd\n",
    "import networkx as nx\n",
    "import yaml\n",
    "import torch_geometric.nn as geom_nn\n",
    "from torch.nn import ReLU, Sigmoid\n",
    "from typing import Dict, Union, List\n",
    "import torch\n",
    "import torch.nn\n",
    "import torch.nn as nn\n",
    "from torch.optim import Adam\n",
    "from torch.nn import functional as F\n",
    "import torch_geometric.nn as geom_nn\n",
    "from torch_geometric.data import Data\n",
    "from pytorch_lightning import LightningModule, Trainer\n",
    "\n",
    "from app.features.model.layers import GlobalPooling\n",
    "from app.features.model.layers import Concat\n",
    "from app.builder.dataset import DataModule\n",
    "from app.features.model.schema.configs import ModelConfig"
   ]
  },
  {
   "cell_type": "code",
   "execution_count": 2,
   "id": "4a4593c0-97cc-499f-9a41-e97e0d5a936f",
   "metadata": {},
   "outputs": [
    {
     "data": {
      "text/plain": [
       "ModelConfig(name='GNNExample', dataset=DatasetConfig(name='Small Zinc dataset', target_column='tpsa', feature_columns=['smiles', 'mwt']), featurizers=[AppmoleculefeaturizerLayerConfig(name='MolToGraphFeaturizer', input=['smiles'], type='app.features.model.featurizers.MoleculeFeaturizer', args=AppmoleculefeaturizerArgs(allow_unknown=False, sym_bond_list=True, per_atom_fragmentation=False))], layers=[TorchgeometricgcnconvLayerConfig(name='GCN1', input='MolToGraphFeaturizer', type='torch_geometric.nn.GCNConv', args=TorchgeometricgcnconvArgs(in_channels=26, out_channels=64)), TorchreluLayerConfig(name='GCN1_Activation', input='GCN1', type='torch.nn.ReLU'), TorchgeometricgcnconvLayerConfig(name='GCN2', input='GCN1_Activation', type='torch_geometric.nn.GCNConv', args=TorchgeometricgcnconvArgs(in_channels=64, out_channels=64)), TorchreluLayerConfig(name='GCN2_Activation', input='GCN2', type='torch.nn.ReLU'), TorchgeometricgcnconvLayerConfig(name='GCN3', input='GCN2_Activation', type='torch_geometric.nn.GCNConv', args=TorchgeometricgcnconvArgs(in_channels=64, out_channels=64)), TorchreluLayerConfig(name='GCN3_Activation', input='GCN3', type='torch.nn.ReLU'), AppglobalpoolingLayerConfig(name='AddPool', input='GCN3_Activation', type='app.features.model.layers.GlobalPooling', args=AppglobalpoolingArgs(aggr='sum')), TorchlinearLayerConfig(name='Linear1', input='mwt', type='torch.nn.Linear', args=TorchlinearArgs(in_features=1, out_features=10)), AppconcatLayerConfig(name='Combiner', input=['AddPool', 'Linear1'], type='app.features.model.layers.Concat'), TorchlinearLayerConfig(name='LinearJoined', input='Combiner', type='torch.nn.Linear', args=TorchlinearArgs(in_features=74, out_features=1))])"
      ]
     },
     "execution_count": 2,
     "metadata": {},
     "output_type": "execute_result"
    }
   ],
   "source": [
    "config = \"\"\"name: GNNExample\n",
    "dataset:\n",
    "  name: Small Zinc dataset\n",
    "  target_column: tpsa\n",
    "  feature_columns:\n",
    "    - smiles\n",
    "    - mwt\n",
    "\n",
    "featurizers:\n",
    "  - name: MolToGraphFeaturizer\n",
    "    type: app.features.model.featurizers.MoleculeFeaturizer\n",
    "    input:\n",
    "      - smiles\n",
    "    args:\n",
    "      allow_unknown: false\n",
    "      sym_bond_list: true\n",
    "      per_atom_fragmentation: false\n",
    "\n",
    "layers:\n",
    "\n",
    "  # Start fst branch (from featurizer)\n",
    "  - name: GCN1\n",
    "    type: torch_geometric.nn.GCNConv\n",
    "    args:\n",
    "      in_channels: 26\n",
    "      out_channels: 64\n",
    "    input: MolToGraphFeaturizer\n",
    "\n",
    "  - name: GCN1_Activation\n",
    "    type: torch.nn.ReLU\n",
    "    input: GCN1\n",
    "\n",
    "  - name: GCN2 \n",
    "    type: torch_geometric.nn.GCNConv\n",
    "    input: GCN1_Activation\n",
    "    args:\n",
    "      in_channels: 64\n",
    "      out_channels: 64\n",
    "\n",
    "  - name: GCN2_Activation\n",
    "    type: torch.nn.ReLU\n",
    "    input: GCN2\n",
    "\n",
    "  - name: GCN3\n",
    "    type: torch_geometric.nn.GCNConv\n",
    "    input: GCN2_Activation\n",
    "    args:\n",
    "      in_channels: 64\n",
    "      out_channels: 64\n",
    "\n",
    "  - name: GCN3_Activation\n",
    "    type: torch.nn.ReLU\n",
    "    input: GCN3\n",
    "\n",
    "  - name: AddPool\n",
    "    type: app.features.model.layers.GlobalPooling\n",
    "    input: GCN3_Activation\n",
    "    args:\n",
    "      aggr: 'sum'\n",
    "  # End of fst branch\n",
    "\n",
    "  # Second branch would simply be linear layers in mwt\n",
    "  - name: Linear1\n",
    "    type: torch.nn.Linear\n",
    "    args:\n",
    "      in_features: 1\n",
    "      out_features: 10\n",
    "    input: mwt\n",
    "\n",
    "  - name: Combiner\n",
    "    type: app.features.model.layers.Concat\n",
    "    input: ['AddPool', 'Linear1']\n",
    "\n",
    "  - name: LinearJoined\n",
    "    type: torch.nn.Linear\n",
    "    input: Combiner\n",
    "    args:\n",
    "      in_features: 74\n",
    "      out_features: 1\n",
    "\"\"\"\n",
    "\n",
    "model = ModelConfig.from_yaml(config)\n",
    "model"
   ]
  },
  {
   "cell_type": "code",
   "execution_count": 3,
   "id": "87486eb1-d912-4a65-9d0c-63615f219ff4",
   "metadata": {},
   "outputs": [],
   "source": [
    "zinc = pd.read_csv('./zinc.csv')"
   ]
  },
  {
   "cell_type": "code",
   "execution_count": 3,
   "id": "0ce42b0c-5bc7-4e89-b803-c87c4d4a1b3b",
   "metadata": {},
   "outputs": [
    {
     "data": {
      "text/plain": [
       "<app.builder.dataset.DataModule at 0x7f823c37b940>"
      ]
     },
     "execution_count": 3,
     "metadata": {},
     "output_type": "execute_result"
    }
   ],
   "source": [
    "data_module = DataModule(zinc, 'random', '80-15-5', 4, model.dataset, model.featurizers)\n",
    "data_module"
   ]
  },
  {
   "cell_type": "code",
   "execution_count": 4,
   "id": "4046258f-924c-449d-b932-b5f6dab11c45",
   "metadata": {},
   "outputs": [],
   "source": [
    "data_module.setup()\n",
    "tl = data_module.train_dataloader()"
   ]
  },
  {
   "cell_type": "code",
   "execution_count": 5,
   "id": "81949473-f670-4433-9c12-9029f9b799e5",
   "metadata": {},
   "outputs": [
    {
     "data": {
      "text/plain": [
       "{'MolToGraphFeaturizer': DataBatch(x=[77, 26], edge_index=[2, 162], edge_attr=[162, 9], batch=[77], ptr=[5]),\n",
       " 'mwt': tensor([170.5990, 307.4150, 296.3670, 320.4360]),\n",
       " 'y': tensor([55.1200, 55.4000, 72.6400, 44.8900])}"
      ]
     },
     "execution_count": 5,
     "metadata": {},
     "output_type": "execute_result"
    }
   ],
   "source": [
    "next(iter(tl))"
   ]
  },
  {
   "cell_type": "code",
   "execution_count": 4,
   "id": "0e84236c-a798-438e-9b0e-d5857af10d5a",
   "metadata": {},
   "outputs": [
    {
     "data": {
      "image/png": "[encoded data removed]",
      "text/plain": [
       "<Figure size 432x288 with 1 Axes>"
      ]
     },
     "metadata": {},
     "output_type": "display_data"
    }
   ],
   "source": [
    "nx.draw(model.make_graph(), with_labels=True)"
   ]
  },
  {
   "cell_type": "code",
   "execution_count": 4,
   "id": "6401cb6a-6a43-4afb-9073-a216a203829a",
   "metadata": {},
   "outputs": [
    {
     "name": "stderr",
     "output_type": "stream",
     "text": [
      "/app/app/features/dataset/utils.py:18: FutureWarning: The frame.append method is deprecated and will be removed from pandas in a future version. Use pandas.concat instead.\n",
      "  stats = stats.append(dtypes)\n",
      "/app/app/features/dataset/utils.py:19: FutureWarning: The frame.append method is deprecated and will be removed from pandas in a future version. Use pandas.concat instead.\n",
      "  stats = stats.append(nacount)\n"
     ]
    },
    {
     "name": "stdout",
     "output_type": "stream",
     "text": [
      "[{'mwt': tensor([[296.3670]]), 'MolToGraphFeaturizer': DataBatch(x=[21, 26], edge_index=[2, 42], edge_attr=[42, 9], batch=[21], ptr=[2])}, tensor([[[72.6400]]])]\n"
     ]
    }
   ],
   "source": [
    "## Creating the database dataset object\n",
    "from fastapi.datastructures import UploadFile\n",
    "from app.db.session import SessionLocal\n",
    "from app.features.dataset import controller as dataset_ctl\n",
    "from app.features.dataset.schema import DatasetCreate, Dataset\n",
    "from app.features.dataset.crud import repo as dataset_repo\n",
    "from app.features.user.crud import repo as user_repo\n",
    "\n",
    "ds_file_path = '/app/app/tests/data/csv/zinc.csv'\n",
    "ds_file = open(ds_file_path, 'rb')\n",
    "ds_file = UploadFile(ds_file_path, ds_file)\n",
    "user = None\n",
    "db = None\n",
    "if not db:\n",
    "    db = SessionLocal()\n",
    "ds = dataset_repo.get_by_name(db, 'Small Zinc dataset')\n",
    "if not user:\n",
    "    user = user_repo.get_by_email(db, email='admin@mariner.trident.bio')\n",
    "    assert user is not None\n",
    "if not ds:\n",
    "    ds = dataset_ctl.create_dataset(db, user, DatasetCreate(\n",
    "        file=ds_file,\n",
    "        name=\"Small Zinc dataset\",\n",
    "        description=\"The dataset with 1 smiles and 1 scalar columns as features and 1 scalar column as target\",\n",
    "        split_target=\"60-20-20\"\n",
    "    ))\n",
    "    assert ds is not None\n",
    "    \n",
    "# creating pygnn dataset instance\n",
    "dataset = CustomDataset(ds, model)\n",
    "dataloader = DataLoader(dataset)\n",
    "print(next(iter(dataloader)))"
   ]
  },
  {
   "cell_type": "code",
   "execution_count": 5,
   "id": "61216733-ed52-48f4-9790-6528445bc99a",
   "metadata": {},
   "outputs": [],
   "source": [
    "edge_index_classes = ( geom_nn.MessagePassing )\n",
    "pooling_classes = ( GlobalPooling )\n",
    "activations = (ReLU, Sigmoid)\n",
    "\n",
    "def is_message_passing(layer):\n",
    "    \"\"\" x = layer(x, edge_index) \"\"\"\n",
    "    return isinstance(layer, geom_nn.MessagePassing)\n",
    "\n",
    "def is_graph_pooling(layer):\n",
    "    \"\"\" x = layer(x, batch) \"\"\"\n",
    "    return isinstance(layer, pooling_classes)\n",
    "\n",
    "def is_concat_layer(layer):\n",
    "    return isinstance(layer, Concat)\n",
    "\n",
    "def is_graph_activation(layer, layers_dict, previous):\n",
    "    \"\"\"\n",
    "    takes the a dictionary with nn.Modules and the keys of\n",
    "    previous layers, checking if \n",
    "    \"\"\"\n",
    "    if not isinstance(layer, activations):\n",
    "        return False\n",
    "    for name in previous:\n",
    "        if is_message_passing(layers_dict[name]) or is_graph_pooling(layers_dict[name]):\n",
    "            return True\n",
    "    return False\n"
   ]
  },
  {
   "cell_type": "markdown",
   "id": "0e6b071b-7f86-48e8-8929-3956e70a68de",
   "metadata": {},
   "source": [
    "### Custom Model"
   ]
  },
  {
   "cell_type": "code",
   "execution_count": 13,
   "id": "89f6cd44-c0e5-4bd8-83d7-008525504317",
   "metadata": {
    "tags": []
   },
   "outputs": [
    {
     "data": {
      "text/plain": [
       "CustomModel(\n",
       "  (layers): ModuleDict(\n",
       "    (GCN1): GCNConv(26, 64)\n",
       "    (GCN1_Activation): ReLU()\n",
       "    (GCN2): GCNConv(64, 64)\n",
       "    (GCN2_Activation): ReLU()\n",
       "    (GCN3): GCNConv(64, 64)\n",
       "    (GCN3_Activation): ReLU()\n",
       "    (AddPool): GlobalPooling(aggr=sum)\n",
       "    (Linear1): Linear(in_features=1, out_features=10, bias=True)\n",
       "    (Combiner): Concat()\n",
       "    (LinearJoined): Linear(in_features=74, out_features=1, bias=True)\n",
       "  )\n",
       "  (loss_fn): MSELoss()\n",
       ")"
      ]
     },
     "execution_count": 13,
     "metadata": {},
     "output_type": "execute_result"
    }
   ],
   "source": [
    "class CustomModel(LightningModule):\n",
    "\n",
    "    def __init__(self, config: ModelConfig):\n",
    "        super().__init__()\n",
    "        \n",
    "        self.config = config\n",
    "\n",
    "        layers_dict = {}\n",
    "        for layer in config.layers:\n",
    "            layers_dict[layer.name] = layer.create()\n",
    "\n",
    "        self.layers = torch.nn.ModuleDict(layers_dict)\n",
    "\n",
    "        self.layer_configs = {\n",
    "            l.name: l for l in config.layers\n",
    "        }\n",
    "\n",
    "        self.graph = config.make_graph()\n",
    "        self.topo_sorting = list(nx.topological_sort(self.graph))\n",
    "        \n",
    "        self.loss_fn = nn.MSELoss()\n",
    "        \n",
    "    def configure_optimizers(self):\n",
    "        return Adam(self.parameters(), lr=1e-3)\n",
    "    \n",
    "    def test_step(self, batch, batch_idx):\n",
    "        prediction = self(batch).reshape(4,)\n",
    "        loss = self.loss_fn(prediction, batch['y'])\n",
    "        # self.logger.log('test_loss', loss)\n",
    "        return loss\n",
    "    \n",
    "    def validation_step(self, batch, batch_idx):\n",
    "        prediction = self(batch).reshape(4,)\n",
    "        loss = self.loss_fn(prediction, batch['y'])\n",
    "        return loss\n",
    "\n",
    "    def training_step(self, batch, batch_idx):\n",
    "        prediction = self(batch).reshape(4,)\n",
    "        # TODO: adapt loss to problem type. MSE will only work for regression\n",
    "        loss = self.loss_fn(prediction, batch['y'])\n",
    "        return loss\n",
    "    \n",
    "    def forward(self, input_):\n",
    "        storage = input_.copy()\n",
    "\n",
    "        for key, value in storage.items():\n",
    "            if key != 'y' and not isinstance(value, Data):\n",
    "                storage[key] = value.reshape(len(value), 1)\n",
    "\n",
    "        batch_values = None\n",
    "\n",
    "        for index, node_name in enumerate(self.topo_sorting):\n",
    "            if not node_name in self.layers:\n",
    "                continue\n",
    "            layer_name = node_name\n",
    "            layer = self.layers[layer_name]\n",
    "            layer_config = self.layer_configs[layer_name]\n",
    "            previous_layers = [p_layer for p_layer, c_layer in self.graph.in_edges(layer_name)]\n",
    "            inputs = if_str_make_list(layer_config.input)\n",
    "            # Step 2\n",
    "            # Transform and preprocess the input and output based on the previous\n",
    "            # and next layers.\n",
    "            \n",
    "            if is_message_passing(layer):\n",
    "                assert len(inputs) == 1, f\"Length of a gnn layer's inputs should be at most 1. inputs = {inputs}\"\n",
    "                src = inputs[0]\n",
    "                assert isinstance(storage[src], Data)\n",
    "                x, edge_index, batch_values = storage[src].x, storage[src].edge_index, storage[src].batch\n",
    "                x, edge_index = layer(x=x, edge_index=edge_index), edge_index\n",
    "                storage[layer_name] = Data(x=x, edge_index=edge_index, batch=batch_values)\n",
    "            # 2.2   - if its an pooling layer it always have just one input\n",
    "            #         and the input is composed by x (node_features) from the last layer\n",
    "            #         and the batch that comes with the data object\n",
    "            elif is_graph_pooling(layer):\n",
    "                assert len(inputs) == 1, f\"Length of a gnn layer's inputs should be at most 1. inputs = {inputs}\"\n",
    "                src = inputs[0]\n",
    "                assert isinstance(storage[src], Data)\n",
    "                x, edge_index, batch_values = storage[src].x, storage[src].edge_index, storage[src].batch\n",
    "                storage[layer_name] = layer(x=x, batch=batch_values)\n",
    "            # 2.3   - if its an activation or a mlp/normal layer we need to check the\n",
    "            #         previous layers to make sure that the input is in t;he correct format\n",
    "            #         and check the next layers to format the output\n",
    "            elif is_graph_activation(layer, self.layers, previous_layers):\n",
    "                assert len(inputs) == 1, f\"Length of a activation layer's inputs should be at most 1. inputs = {inputs}\"\n",
    "                src = inputs[0]\n",
    "                assert isinstance(storage[src], Data)\n",
    "                x, edge_index, batch_values = storage[src].x, storage[src].edge_index, storage[src].batch\n",
    "                storage[layer_name] = Data(x=layer(x), edge_index=edge_index, batch=batch_values)\n",
    "            elif is_concat_layer(layer):\n",
    "                assert len(inputs) == 2, f\"Length of a concat layer's inputs should be 2. inputs = {inputs}\"\n",
    "                x1, x2 = storage[inputs[0]], storage[inputs[1]]\n",
    "                storage[layer_name] = layer(x1,x2)\n",
    "            elif isinstance(layer, nn.Linear):\n",
    "                input_values = [\n",
    "                    storage[input]\n",
    "                    for input in inputs\n",
    "                ]\n",
    "                input_values = torch.cat(input_values, dim=1)\n",
    "                x_ = layer(input_values)\n",
    "                storage[layer_name] = x_\n",
    "            else:\n",
    "                input_values = [ \n",
    "                    storage[input] if isinstance(storage[input], Data) else\n",
    "                    storage[input]\n",
    "                    for input in inputs\n",
    "                ]\n",
    "                x_ = layer(*input_values)\n",
    "                storage[layer_name] = x_\n",
    "            last = storage[layer_name]\n",
    "        return last\n",
    "\n",
    "custom_model = CustomModel(model)\n",
    "custom_model\n",
    "# custom_model.forward(x)\n",
    "# trainer = Trainer(max_epochs=2)\n",
    "# trainer.fit(custom_model, dataloader)"
   ]
  },
  {
   "cell_type": "code",
   "execution_count": 7,
   "id": "0cadcf0f-37f6-4cd9-baab-ae24c3f01a54",
   "metadata": {},
   "outputs": [],
   "source": [
    "def if_str_make_list(x: Union[str, List[str]]) -> List[str]:\n",
    "    if isinstance(x, str):\n",
    "        return [x]\n",
    "    return x"
   ]
  },
  {
   "cell_type": "code",
   "execution_count": 14,
   "id": "200229fb-e866-4ada-992f-0caa3c99f999",
   "metadata": {},
   "outputs": [
    {
     "name": "stderr",
     "output_type": "stream",
     "text": [
      "GPU available: False, used: False\n",
      "TPU available: False, using: 0 TPU cores\n",
      "IPU available: False, using: 0 IPUs\n",
      "HPU available: False, using: 0 HPUs\n"
     ]
    },
    {
     "data": {
      "text/plain": [
       "<pytorch_lightning.trainer.trainer.Trainer at 0x7f719e3444f0>"
      ]
     },
     "execution_count": 14,
     "metadata": {},
     "output_type": "execute_result"
    }
   ],
   "source": [
    "import pytorch_lightning as pl\n",
    "\n",
    "trainer = pl.Trainer(max_epochs=10)\n",
    "trainer"
   ]
  },
  {
   "cell_type": "code",
   "execution_count": 15,
   "id": "821d39a2-6715-4584-96e1-2220c10fbd4a",
   "metadata": {},
   "outputs": [
    {
     "name": "stderr",
     "output_type": "stream",
     "text": [
      "Missing logger folder: /app/notebooks/lightning_logs\n",
      "\n",
      "  | Name    | Type       | Params\n",
      "---------------------------------------\n",
      "0 | layers  | ModuleDict | 10.1 K\n",
      "1 | loss_fn | MSELoss    | 0     \n",
      "---------------------------------------\n",
      "10.1 K    Trainable params\n",
      "0         Non-trainable params\n",
      "10.1 K    Total params\n",
      "0.041     Total estimated model params size (MB)\n"
     ]
    },
    {
     "name": "stdout",
     "output_type": "stream",
     "text": [
      "Epoch 9: 100%|████████████████████████████████████████████████████| 100/100 [00:03<00:00, 32.58it/s, loss=55.8, v_num=0]\n"
     ]
    }
   ],
   "source": [
    "data_module = DataModule(zinc, 'random', '80-15-5', 4, model.dataset, model.featurizers)\n",
    "data_module.setup(stage=None)\n",
    "\n",
    "trainer.fit(custom_model, data_module.train_dataloader())"
   ]
  },
  {
   "cell_type": "code",
   "execution_count": 16,
   "id": "4afbaa6e-c444-4c33-b02f-7ce637b165c9",
   "metadata": {},
   "outputs": [
    {
     "data": {
      "text/plain": [
       "{'MolToGraphFeaturizer': DataBatch(x=[79, 26], edge_index=[2, 164], edge_attr=[164, 9], batch=[79], ptr=[5]),\n",
       " 'mwt': tensor([321.3840, 212.2010, 323.3700, 248.2820]),\n",
       " 'y': tensor([85.8300, 75.9900, 73.8600, 67.7600])}"
      ]
     },
     "execution_count": 16,
     "metadata": {},
     "output_type": "execute_result"
    }
   ],
   "source": [
    "b_ = next(iter(data_module.test_dataloader()))\n",
    "b_"
   ]
  },
  {
   "cell_type": "code",
   "execution_count": 18,
   "id": "7f402bff-45bb-4e79-975a-d2881ee8bca5",
   "metadata": {},
   "outputs": [
    {
     "data": {
      "text/plain": [
       "7.416198487095663"
      ]
     },
     "execution_count": 18,
     "metadata": {},
     "output_type": "execute_result"
    }
   ],
   "source": [
    "{\n",
    "'loss': 55.8,\n",
    "'mse': 55.8,\n",
    "}"
   ]
  },
  {
   "cell_type": "code",
   "execution_count": 17,
   "id": "16c3b53c-4176-4089-9de8-04e7304d8279",
   "metadata": {},
   "outputs": [
    {
     "data": {
      "text/plain": [
       "tensor([[83.6066],\n",
       "        [73.9177],\n",
       "        [77.2502],\n",
       "        [63.9825]], grad_fn=<AddmmBackward>)"
      ]
     },
     "execution_count": 17,
     "metadata": {},
     "output_type": "execute_result"
    }
   ],
   "source": [
    "pred = custom_model(b_)\n",
    "pred"
   ]
  }
 ],
 "metadata": {
  "kernelspec": {
   "display_name": "Python 3 (ipykernel)",
   "language": "python",
   "name": "python3"
  },
  "language_info": {
   "codemirror_mode": {
    "name": "ipython",
    "version": 3
   },
   "file_extension": ".py",
   "mimetype": "text/x-python",
   "name": "python",
   "nbconvert_exporter": "python",
   "pygments_lexer": "ipython3",
   "version": "3.9.13"
  },
  "vscode": {
   "interpreter": {
    "hash": "6ac69d8d5a6848ec5ff67d0f4a47689835fdd9cbb0d9df096259682f8ad582c9"
   }
  }
 },
 "nbformat": 4,
 "nbformat_minor": 5
}
