{
 "cells": [
  {
   "cell_type": "code",
   "execution_count": null,
   "id": "2fe45821-324d-45de-a432-2153ad91b88e",
   "metadata": {},
   "outputs": [],
   "source": [
    "! ray stop && ray start --head --disable-usage-stats"
   ]
  },
  {
   "cell_type": "code",
   "execution_count": 2,
   "id": "7b780db1-8493-49a6-8a93-a7d6ed71a615",
   "metadata": {},
   "outputs": [
    {
     "name": "stderr",
     "output_type": "stream",
     "text": [
      "/usr/local/lib/python3.9/site-packages/tqdm/auto.py:22: TqdmWarning: IProgress not found. Please update jupyter and ipywidgets. See https://ipywidgets.readthedocs.io/en/stable/user_install.html\n",
      "  from .autonotebook import tqdm as notebook_tqdm\n",
      "File descriptor limit 1024 is too low for production servers and may result in connection errors. At least 8192 is recommended. --- Fix with 'ulimit -n 8192'\n"
     ]
    },
    {
     "data": {
      "text/plain": [
       "<ray.serve.client.ServeControllerClient at 0x7fcffe1f0310>"
      ]
     },
     "execution_count": 2,
     "metadata": {},
     "output_type": "execute_result"
    }
   ],
   "source": [
    "import ray\n",
    "import time\n",
    "import asyncio\n",
    "from ray import serve\n",
    "import pandas as pd\n",
    "import mlflow.pyfunc\n",
    "import mlflow\n",
    "import os\n",
    "from app.main import app\n",
    "from app.features.model.crud import repo as models_repo\n",
    "from app.db.session import SessionLocal\n",
    "from app.features.model.schema.model import Model\n",
    "\n",
    "if ray.is_initialized:\n",
    "    ray.shutdown()\n",
    "\n",
    "address = 'auto'\n",
    "ray.init(address=address)\n",
    "\n",
    "serve.start(detached=True)"
   ]
  },
  {
   "cell_type": "code",
   "execution_count": 3,
   "id": "e4f6e37e-f98c-47a4-a21d-48e76f5a08a2",
   "metadata": {},
   "outputs": [],
   "source": [
    "@serve.deployment\n",
    "class MLflowDeployment:\n",
    "    def __init__(self, model_uri):\n",
    "        self.model = mlflow.pyfunc.load_model(model_uri=model_uri)\n",
    "\n",
    "    async def __call__(self, request):\n",
    "        csv_text = await request.body() # The body contains just raw csv text.\n",
    "        df = pd.read_csv(csv_text)\n",
    "        return self.model.predict(df)\n",
    "\n",
    "def deploy_model(deployment_name: str, model: Model, route_prefix: str):\n",
    "    MLflowDeployment.options(name=deployment_name, route_prefix=route_prefix).deploy(model.get_model_uri())\n"
   ]
  },
  {
   "cell_type": "code",
   "execution_count": 4,
   "id": "58d0734a-d712-468d-a06c-b305b18a0645",
   "metadata": {},
   "outputs": [
    {
     "name": "stdout",
     "output_type": "stream",
     "text": [
      "model:/grsaeoohffsxkedcunlrxjposjwzagcx/1\n"
     ]
    },
    {
     "ename": "RuntimeError",
     "evalue": "Deployment grsaeoohffsxkedcunlrxjposjwzagcx-deployment is UNHEALTHY: The Deployment constructor failed 3 times in a row. See logs for details.",
     "output_type": "error",
     "traceback": [
      "\u001b[0;31m---------------------------------------------------------------------------\u001b[0m",
      "\u001b[0;31mRuntimeError\u001b[0m                              Traceback (most recent call last)",
      "Input \u001b[0;32mIn [4]\u001b[0m, in \u001b[0;36m<cell line: 9>\u001b[0;34m()\u001b[0m\n\u001b[1;32m      7\u001b[0m deployment_name \u001b[38;5;241m=\u001b[39m \u001b[38;5;124mf\u001b[39m\u001b[38;5;124m'\u001b[39m\u001b[38;5;132;01m{\u001b[39;00mmodel\u001b[38;5;241m.\u001b[39mname\u001b[38;5;132;01m}\u001b[39;00m\u001b[38;5;124m-deployment\u001b[39m\u001b[38;5;124m'\u001b[39m\n\u001b[1;32m      8\u001b[0m route_prefix \u001b[38;5;241m=\u001b[39m \u001b[38;5;124m'\u001b[39m\u001b[38;5;124m/example-deployment2\u001b[39m\u001b[38;5;124m'\u001b[39m\n\u001b[0;32m----> 9\u001b[0m \u001b[43mdeploy_model\u001b[49m\u001b[43m(\u001b[49m\u001b[43mdeployment_name\u001b[49m\u001b[43m,\u001b[49m\u001b[43m \u001b[49m\u001b[43mmodel\u001b[49m\u001b[43m,\u001b[49m\u001b[43m \u001b[49m\u001b[43mroute_prefix\u001b[49m\u001b[43m)\u001b[49m\n",
      "Input \u001b[0;32mIn [3]\u001b[0m, in \u001b[0;36mdeploy_model\u001b[0;34m(deployment_name, model, route_prefix)\u001b[0m\n\u001b[1;32m     11\u001b[0m \u001b[38;5;28;01mdef\u001b[39;00m \u001b[38;5;21mdeploy_model\u001b[39m(deployment_name: \u001b[38;5;28mstr\u001b[39m, model: Model, route_prefix: \u001b[38;5;28mstr\u001b[39m):\n\u001b[0;32m---> 12\u001b[0m     \u001b[43mMLflowDeployment\u001b[49m\u001b[38;5;241;43m.\u001b[39;49m\u001b[43moptions\u001b[49m\u001b[43m(\u001b[49m\u001b[43mname\u001b[49m\u001b[38;5;241;43m=\u001b[39;49m\u001b[43mdeployment_name\u001b[49m\u001b[43m,\u001b[49m\u001b[43m \u001b[49m\u001b[43mroute_prefix\u001b[49m\u001b[38;5;241;43m=\u001b[39;49m\u001b[43mroute_prefix\u001b[49m\u001b[43m)\u001b[49m\u001b[38;5;241;43m.\u001b[39;49m\u001b[43mdeploy\u001b[49m\u001b[43m(\u001b[49m\u001b[43mmodel\u001b[49m\u001b[38;5;241;43m.\u001b[39;49m\u001b[43mget_model_uri\u001b[49m\u001b[43m(\u001b[49m\u001b[43m)\u001b[49m\u001b[43m)\u001b[49m\n",
      "File \u001b[0;32m/usr/local/lib/python3.9/site-packages/ray/serve/deployment.py:236\u001b[0m, in \u001b[0;36mDeployment.deploy\u001b[0;34m(self, _blocking, *init_args, **init_kwargs)\u001b[0m\n\u001b[1;32m    233\u001b[0m \u001b[38;5;28;01mif\u001b[39;00m \u001b[38;5;28mlen\u001b[39m(init_kwargs) \u001b[38;5;241m==\u001b[39m \u001b[38;5;241m0\u001b[39m \u001b[38;5;129;01mand\u001b[39;00m \u001b[38;5;28mself\u001b[39m\u001b[38;5;241m.\u001b[39m_init_kwargs \u001b[38;5;129;01mis\u001b[39;00m \u001b[38;5;129;01mnot\u001b[39;00m \u001b[38;5;28;01mNone\u001b[39;00m:\n\u001b[1;32m    234\u001b[0m     init_kwargs \u001b[38;5;241m=\u001b[39m \u001b[38;5;28mself\u001b[39m\u001b[38;5;241m.\u001b[39m_init_kwargs\n\u001b[0;32m--> 236\u001b[0m \u001b[38;5;28;01mreturn\u001b[39;00m \u001b[43mget_global_client\u001b[49m\u001b[43m(\u001b[49m\u001b[43m)\u001b[49m\u001b[38;5;241;43m.\u001b[39;49m\u001b[43mdeploy\u001b[49m\u001b[43m(\u001b[49m\n\u001b[1;32m    237\u001b[0m \u001b[43m    \u001b[49m\u001b[38;5;28;43mself\u001b[39;49m\u001b[38;5;241;43m.\u001b[39;49m\u001b[43m_name\u001b[49m\u001b[43m,\u001b[49m\n\u001b[1;32m    238\u001b[0m \u001b[43m    \u001b[49m\u001b[38;5;28;43mself\u001b[39;49m\u001b[38;5;241;43m.\u001b[39;49m\u001b[43m_func_or_class\u001b[49m\u001b[43m,\u001b[49m\n\u001b[1;32m    239\u001b[0m \u001b[43m    \u001b[49m\u001b[43minit_args\u001b[49m\u001b[43m,\u001b[49m\n\u001b[1;32m    240\u001b[0m \u001b[43m    \u001b[49m\u001b[43minit_kwargs\u001b[49m\u001b[43m,\u001b[49m\n\u001b[1;32m    241\u001b[0m \u001b[43m    \u001b[49m\u001b[43mray_actor_options\u001b[49m\u001b[38;5;241;43m=\u001b[39;49m\u001b[38;5;28;43mself\u001b[39;49m\u001b[38;5;241;43m.\u001b[39;49m\u001b[43m_ray_actor_options\u001b[49m\u001b[43m,\u001b[49m\n\u001b[1;32m    242\u001b[0m \u001b[43m    \u001b[49m\u001b[43mconfig\u001b[49m\u001b[38;5;241;43m=\u001b[39;49m\u001b[38;5;28;43mself\u001b[39;49m\u001b[38;5;241;43m.\u001b[39;49m\u001b[43m_config\u001b[49m\u001b[43m,\u001b[49m\n\u001b[1;32m    243\u001b[0m \u001b[43m    \u001b[49m\u001b[43mversion\u001b[49m\u001b[38;5;241;43m=\u001b[39;49m\u001b[38;5;28;43mself\u001b[39;49m\u001b[38;5;241;43m.\u001b[39;49m\u001b[43m_version\u001b[49m\u001b[43m,\u001b[49m\n\u001b[1;32m    244\u001b[0m \u001b[43m    \u001b[49m\u001b[43mprev_version\u001b[49m\u001b[38;5;241;43m=\u001b[39;49m\u001b[38;5;28;43mself\u001b[39;49m\u001b[38;5;241;43m.\u001b[39;49m\u001b[43m_prev_version\u001b[49m\u001b[43m,\u001b[49m\n\u001b[1;32m    245\u001b[0m \u001b[43m    \u001b[49m\u001b[43mroute_prefix\u001b[49m\u001b[38;5;241;43m=\u001b[39;49m\u001b[38;5;28;43mself\u001b[39;49m\u001b[38;5;241;43m.\u001b[39;49m\u001b[43mroute_prefix\u001b[49m\u001b[43m,\u001b[49m\n\u001b[1;32m    246\u001b[0m \u001b[43m    \u001b[49m\u001b[43murl\u001b[49m\u001b[38;5;241;43m=\u001b[39;49m\u001b[38;5;28;43mself\u001b[39;49m\u001b[38;5;241;43m.\u001b[39;49m\u001b[43murl\u001b[49m\u001b[43m,\u001b[49m\n\u001b[1;32m    247\u001b[0m \u001b[43m    \u001b[49m\u001b[43m_blocking\u001b[49m\u001b[38;5;241;43m=\u001b[39;49m\u001b[43m_blocking\u001b[49m\u001b[43m,\u001b[49m\n\u001b[1;32m    248\u001b[0m \u001b[43m\u001b[49m\u001b[43m)\u001b[49m\n",
      "File \u001b[0;32m/usr/local/lib/python3.9/site-packages/ray/serve/client.py:54\u001b[0m, in \u001b[0;36m_ensure_connected.<locals>.check\u001b[0;34m(self, *args, **kwargs)\u001b[0m\n\u001b[1;32m     52\u001b[0m \u001b[38;5;28;01mif\u001b[39;00m \u001b[38;5;28mself\u001b[39m\u001b[38;5;241m.\u001b[39m_shutdown:\n\u001b[1;32m     53\u001b[0m     \u001b[38;5;28;01mraise\u001b[39;00m RayServeException(\u001b[38;5;124m\"\u001b[39m\u001b[38;5;124mClient has already been shut down.\u001b[39m\u001b[38;5;124m\"\u001b[39m)\n\u001b[0;32m---> 54\u001b[0m \u001b[38;5;28;01mreturn\u001b[39;00m \u001b[43mf\u001b[49m\u001b[43m(\u001b[49m\u001b[38;5;28;43mself\u001b[39;49m\u001b[43m,\u001b[49m\u001b[43m \u001b[49m\u001b[38;5;241;43m*\u001b[39;49m\u001b[43margs\u001b[49m\u001b[43m,\u001b[49m\u001b[43m \u001b[49m\u001b[38;5;241;43m*\u001b[39;49m\u001b[38;5;241;43m*\u001b[39;49m\u001b[43mkwargs\u001b[49m\u001b[43m)\u001b[49m\n",
      "File \u001b[0;32m/usr/local/lib/python3.9/site-packages/ray/serve/client.py:258\u001b[0m, in \u001b[0;36mServeControllerClient.deploy\u001b[0;34m(self, name, deployment_def, init_args, init_kwargs, ray_actor_options, config, version, prev_version, route_prefix, url, _blocking)\u001b[0m\n\u001b[1;32m    255\u001b[0m tag \u001b[38;5;241m=\u001b[39m \u001b[38;5;28mself\u001b[39m\u001b[38;5;241m.\u001b[39mlog_deployment_update_status(name, version, updating)\n\u001b[1;32m    257\u001b[0m \u001b[38;5;28;01mif\u001b[39;00m _blocking:\n\u001b[0;32m--> 258\u001b[0m     \u001b[38;5;28;43mself\u001b[39;49m\u001b[38;5;241;43m.\u001b[39;49m\u001b[43m_wait_for_deployment_healthy\u001b[49m\u001b[43m(\u001b[49m\u001b[43mname\u001b[49m\u001b[43m)\u001b[49m\n\u001b[1;32m    259\u001b[0m     \u001b[38;5;28mself\u001b[39m\u001b[38;5;241m.\u001b[39mlog_deployment_ready(name, version, url, tag)\n",
      "File \u001b[0;32m/usr/local/lib/python3.9/site-packages/ray/serve/client.py:192\u001b[0m, in \u001b[0;36mServeControllerClient._wait_for_deployment_healthy\u001b[0;34m(self, name, timeout_s)\u001b[0m\n\u001b[1;32m    190\u001b[0m     \u001b[38;5;28;01mbreak\u001b[39;00m\n\u001b[1;32m    191\u001b[0m \u001b[38;5;28;01melif\u001b[39;00m status\u001b[38;5;241m.\u001b[39mstatus \u001b[38;5;241m==\u001b[39m DeploymentStatus\u001b[38;5;241m.\u001b[39mUNHEALTHY:\n\u001b[0;32m--> 192\u001b[0m     \u001b[38;5;28;01mraise\u001b[39;00m \u001b[38;5;167;01mRuntimeError\u001b[39;00m(\u001b[38;5;124mf\u001b[39m\u001b[38;5;124m\"\u001b[39m\u001b[38;5;124mDeployment \u001b[39m\u001b[38;5;132;01m{\u001b[39;00mname\u001b[38;5;132;01m}\u001b[39;00m\u001b[38;5;124m is UNHEALTHY: \u001b[39m\u001b[38;5;132;01m{\u001b[39;00mstatus\u001b[38;5;241m.\u001b[39mmessage\u001b[38;5;132;01m}\u001b[39;00m\u001b[38;5;124m\"\u001b[39m)\n\u001b[1;32m    193\u001b[0m \u001b[38;5;28;01melse\u001b[39;00m:\n\u001b[1;32m    194\u001b[0m     \u001b[38;5;66;03m# Guard against new unhandled statuses being added.\u001b[39;00m\n\u001b[1;32m    195\u001b[0m     \u001b[38;5;28;01massert\u001b[39;00m status\u001b[38;5;241m.\u001b[39mstatus \u001b[38;5;241m==\u001b[39m DeploymentStatus\u001b[38;5;241m.\u001b[39mUPDATING\n",
      "\u001b[0;31mRuntimeError\u001b[0m: Deployment grsaeoohffsxkedcunlrxjposjwzagcx-deployment is UNHEALTHY: The Deployment constructor failed 3 times in a row. See logs for details."
     ]
    }
   ],
   "source": [
    "## Get a model from db\n",
    "db = SessionLocal()\n",
    "db_models, total = models_repo.get_paginated(db, page=0, per_page=15)\n",
    "model = Model.from_orm(db_models[0])\n",
    "## Deploy the model\n",
    "print(model.get_model_uri())\n",
    "deployment_name = f'{model.name}-deployment'\n",
    "route_prefix = '/example-deployment2'\n",
    "deploy_model(deployment_name, model, route_prefix)"
   ]
  },
  {
   "cell_type": "code",
   "execution_count": null,
   "id": "e402a5da-9801-41b9-b191-6752b1e152dd",
   "metadata": {},
   "outputs": [],
   "source": []
  }
 ],
 "metadata": {
  "kernelspec": {
   "display_name": "Python 3 (ipykernel)",
   "language": "python",
   "name": "python3"
  },
  "language_info": {
   "codemirror_mode": {
    "name": "ipython",
    "version": 3
   },
   "file_extension": ".py",
   "mimetype": "text/x-python",
   "name": "python",
   "nbconvert_exporter": "python",
   "pygments_lexer": "ipython3",
   "version": "3.9.7"
  }
 },
 "nbformat": 4,
 "nbformat_minor": 5
}
