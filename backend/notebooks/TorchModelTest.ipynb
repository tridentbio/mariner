{
 "cells": [
  {
   "cell_type": "code",
   "execution_count": 1,
   "id": "db9b02bd-c494-4172-8432-42c5a1d439b3",
   "metadata": {
    "tags": []
   },
   "outputs": [
    {
     "data": {
      "text/plain": [
       "tensor([[0.2090],\n",
       "        [0.3825],\n",
       "        [0.2493],\n",
       "        [0.8298]], grad_fn=<AddmmBackward0>)"
      ]
     },
     "execution_count": 1,
     "metadata": {},
     "output_type": "execute_result"
    }
   ],
   "source": [
    "from dotenv import load_dotenv\n",
    "load_dotenv('../.env')\n",
    "load_dotenv('../.env.secret')\n",
    "import os\n",
    "\n",
    "os.environ['MLFLOW_TRACKING_URI'] = 'http://localhost:5000'\n",
    "os.environ['POSTGRES_SERVER'] = 'localhost'\n",
    "\n",
    "import pandas as pd\n",
    "from fleet.utils import data\n",
    "from torch.utils.data import DataLoader\n",
    "from torch import nn\n",
    "import torch\n",
    "import datetime\n",
    "from fleet.model_builder import splitters\n",
    "from fleet.model_builder.constants import TrainingStep\n",
    "from fleet.base_schemas import TorchModelSpec\n",
    "from fleet.model_functions import fit\n",
    "from fleet.torch_.schemas import TorchTrainingConfig\n",
    "from fleet.model_builder import optimizers\n",
    "from fleet.model_builder.dataset import Collater\n",
    "\n",
    "model_path = '../tests/data/yaml/multiclass_classification_model.yaml'\n",
    "csv_path = '../tests/data/csv/iris.csv'\n",
    "\n",
    "model_spec = TorchModelSpec.from_yaml(model_path)\n",
    "df = pd.read_csv(csv_path)\n",
    "\n",
    "# Creates the \"step\" column on the dataframe with the specified splitting.\n",
    "splitters.apply_split_indexes(df, split_type=\"random\", split_target=\"60-20-20\")\n",
    "\n",
    "# Converts the dataframe to numpy outputs after applying featurizers and transforms.\n",
    "df = data.build_columns_numpy(dataset_config=model_spec.dataset, df=df)\n",
    "\n",
    "# Instantiate torch data loader from preprocessed dataframe\n",
    "dataset = data.MarinerTorchDataset(\n",
    "    data=df,\n",
    "    dataset_config=model_spec.dataset,\n",
    ")\n",
    "dataloader = DataLoader(dataset, batch_size=4, collate_fn=Collater())\n",
    "\n",
    "# Example of a torch dataset batch\n",
    "next(iter(dataloader))"
   ]
  },
  {
   "cell_type": "code",
   "execution_count": 6,
   "id": "d28b38b8-c5bf-47b9-b0ac-2adb6cb69b02",
   "metadata": {
    "tags": []
   },
   "outputs": [
    {
     "name": "stderr",
     "output_type": "stream",
     "text": [
      "WARNING  [model_functions.py:114] Not creating MarinerLogger because experiment_id or experiment_name or user_id are missing\n",
      "WARNING  [model_functions.py:100] params.checkpoint_config is required to log models\n",
      "GPU available: False, used: False\n",
      "TPU available: False, using: 0 TPU cores\n",
      "IPU available: False, using: 0 IPUs\n",
      "HPU available: False, using: 0 HPUs\n",
      "\n",
      "  | Name   | Type       | Params\n",
      "--------------------------------------\n",
      "0 | _model | ModuleDict | 371   \n",
      "--------------------------------------\n",
      "371       Trainable params\n",
      "0         Non-trainable params\n",
      "371       Total params\n",
      "0.001     Total estimated model params size (MB)\n",
      "`Trainer.fit` stopped: `max_epochs=10` reached.\n",
      "WARNING  [model_functions.py:150] Skipping logging models because checkpoint_callback is missing.\n"
     ]
    }
   ],
   "source": [
    "now = datetime.datetime.now()\n",
    "\n",
    "# Trains the model, uploading metrics to MLFlow\n",
    "# NOT logging models because checkpoint_config is absent in train_config\n",
    "result = fit(\n",
    "    spec=model_spec,\n",
    "    train_config=TorchTrainingConfig(\n",
    "        epochs=10,\n",
    "        batch_size=20,\n",
    "        optimizer=optimizers.AdamOptimizer(),\n",
    "    ),\n",
    "    mlflow_model_name=f\"Test-model-{now}\",\n",
    "    mlflow_experiment_name=f\"Test-experiment-{now}\",\n",
    "    datamodule_args={\n",
    "        'split_type': 'random',\n",
    "        'split_target': '60-20-20',\n",
    "    },\n",
    "    dataset=df\n",
    ")"
   ]
  },
  {
   "cell_type": "code",
   "execution_count": 7,
   "id": "3df385f1-5df8-4d49-9d27-626dfc4a823d",
   "metadata": {
    "tags": []
   },
   "outputs": [
    {
     "data": {
      "text/plain": [
       "<Run: data=<RunData: metrics={'epoch': 9.0,\n",
       " 'train/accuracy/species': 0.36666667461395264,\n",
       " 'train/f1/species': 0.36666667461395264,\n",
       " 'train/loss/species': 1.085148811340332,\n",
       " 'train/precision/species': 0.36666667461395264,\n",
       " 'train/recall/species': 0.36666667461395264,\n",
       " 'val/accuracy/species': 0.2666666805744171,\n",
       " 'val/f1/species': 0.2666666805744171,\n",
       " 'val/loss/species': 1.1473380327224731,\n",
       " 'val/precision/species': 0.2666666805744171,\n",
       " 'val/recall/species': 0.2666666805744171}, params={}, tags={'mlflow.runName': 'shivering-doe-64',\n",
       " 'mlflow.source.name': '/home/vlma/.cache/pypoetry/virtualenvs/mariner-yEMAJoJH-py3.9/lib/python3.9/site-packages/ipykernel_launcher.py',\n",
       " 'mlflow.source.type': 'LOCAL',\n",
       " 'mlflow.user': 'vlma'}>, info=<RunInfo: artifact_uri='s3://dev-mariner-datasets/59/c959d7b440164177afea2fbc156a0762/artifacts', end_time=1685727277113, experiment_id='59', lifecycle_stage='active', run_id='c959d7b440164177afea2fbc156a0762', run_name='shivering-doe-64', run_uuid='c959d7b440164177afea2fbc156a0762', start_time=1685727259913, status='FINISHED', user_id='vlma'>>"
      ]
     },
     "execution_count": 7,
     "metadata": {},
     "output_type": "execute_result"
    }
   ],
   "source": [
    "# Getting metrics published to mlflow.\n",
    "from mlflow.tracking.client import MlflowClient\n",
    "\n",
    "client = MlflowClient()\n",
    "runs = client.search_runs(experiment_ids=[result.mlflow_experiment_id])\n",
    "\n",
    "runs[0]"
   ]
  },
  {
   "cell_type": "code",
   "execution_count": null,
   "id": "71ddb220-0fae-4e18-8f6b-805f863f6a07",
   "metadata": {},
   "outputs": [],
   "source": []
  }
 ],
 "metadata": {
  "kernelspec": {
   "display_name": "Python 3 (ipykernel)",
   "language": "python",
   "name": "python3"
  },
  "language_info": {
   "codemirror_mode": {
    "name": "ipython",
    "version": 3
   },
   "file_extension": ".py",
   "mimetype": "text/x-python",
   "name": "python",
   "nbconvert_exporter": "python",
   "pygments_lexer": "ipython3",
   "version": "3.9.16"
  }
 },
 "nbformat": 4,
 "nbformat_minor": 5
}
