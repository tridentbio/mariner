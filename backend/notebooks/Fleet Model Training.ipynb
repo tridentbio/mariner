{
 "cells": [
  {
   "cell_type": "code",
   "execution_count": 1,
   "id": "f48cdb34-bbd2-4d22-92e3-17026b751b2c",
   "metadata": {
    "tags": []
   },
   "outputs": [],
   "source": [
    "import dotenv\n",
    "\n",
    "dotenv.load_dotenv('../.env')\n",
    "dotenv.load_dotenv('../.env.secret')\n",
    "\n",
    "import os\n",
    "\n",
    "os.environ['MLFLOW_TRACKING_URI'] = 'http://localhost:5000'\n",
    "from pathlib import Path\n",
    "from datetime import datetime\n",
    "import numpy as np\n",
    "import numpy.random as random\n",
    "import pandas as pd\n",
    "from sklearn.preprocessing import FunctionTransformer\n",
    "from fleet.base_schemas import TorchModelSpec\n",
    "from fleet.utils import data\n",
    "from fleet.model_builder.splitters import apply_split_indexes\n",
    "from fleet.preprocessing import TransformConfig, FeaturizerConfig\n",
    "from fleet.dataset_schemas import DatasetConfig, TorchDatasetConfig\n",
    "from fleet.torch_.schemas import TorchTrainingConfig\n",
    "from fleet import model_functions\n",
    "from fleet.base_schemas import TorchModelSpec\n",
    "from fleet.model_builder import optimizers\n",
    "from fleet.torch_.models import CustomModel\n",
    "\n",
    "transformer = FunctionTransformer()\n",
    "mol_featurizer_config = {\n",
    "    'name': 'mol_feat',\n",
    "    'type': 'fleet.model_builder.featurizers.MoleculeFeaturizer',\n",
    "    'forward_args': { 'mol': '$smiles' },\n",
    "    'constructor_args': {\n",
    "        'allow_unknown': False,\n",
    "        'sym_bond_list': False,\n",
    "        'per_atom_fragmentation': False\n",
    "    }\n",
    "}\n",
    "transformer = FeaturizerConfig.parse_obj(mol_featurizer_config).__root__.create()"
   ]
  },
  {
   "cell_type": "code",
   "execution_count": 2,
   "id": "94f888dc-1c6f-49a9-8c25-92dc07774881",
   "metadata": {
    "tags": []
   },
   "outputs": [
    {
     "data": {
      "text/plain": [
       "Data(x=[3, 26], edge_index=[2, 2], edge_attr=[2, 9])"
      ]
     },
     "execution_count": 2,
     "metadata": {},
     "output_type": "execute_result"
    }
   ],
   "source": [
    "transformer('CCC')"
   ]
  },
  {
   "cell_type": "code",
   "execution_count": 3,
   "id": "2de4b0cf-3a5d-4703-9170-ca1f48fe4484",
   "metadata": {
    "tags": []
   },
   "outputs": [],
   "source": [
    "sk_transformer = FunctionTransformer(transformer)"
   ]
  },
  {
   "cell_type": "code",
   "execution_count": 4,
   "id": "bb9de3c6-b08d-44f7-9a8a-5e81de9fcfca",
   "metadata": {
    "tags": []
   },
   "outputs": [
    {
     "name": "stdout",
     "output_type": "stream",
     "text": [
      "Data(x=[3, 26], edge_index=[2, 2], edge_attr=[2, 9]) Data(x=[3, 26], edge_index=[2, 2], edge_attr=[2, 9])\n"
     ]
    }
   ],
   "source": [
    "sk_transformer.fit('CCC')\n",
    "a = sk_transformer.transform('CCC')\n",
    "b = sk_transformer.fit_transform('CCC')\n",
    "print(a, b)\n"
   ]
  },
  {
   "cell_type": "code",
   "execution_count": 5,
   "id": "c74471fe-3275-46d4-8856-37be8445ff55",
   "metadata": {
    "tags": []
   },
   "outputs": [
    {
     "name": "stdout",
     "output_type": "stream",
     "text": [
      "[Data(x=[3, 26], edge_index=[2, 2], edge_attr=[2, 9]), Data(x=[2, 26], edge_index=[2, 1], edge_attr=[1, 9]), Data(x=[4, 26], edge_index=[2, 3], edge_attr=[3, 9])] [Data(x=[3, 26], edge_index=[2, 2], edge_attr=[2, 9]), Data(x=[2, 26], edge_index=[2, 1], edge_attr=[1, 9]), Data(x=[4, 26], edge_index=[2, 3], edge_attr=[3, 9])]\n"
     ]
    },
    {
     "data": {
      "text/html": [
       "<div>\n",
       "<style scoped>\n",
       "    .dataframe tbody tr th:only-of-type {\n",
       "        vertical-align: middle;\n",
       "    }\n",
       "\n",
       "    .dataframe tbody tr th {\n",
       "        vertical-align: top;\n",
       "    }\n",
       "\n",
       "    .dataframe thead th {\n",
       "        text-align: right;\n",
       "    }\n",
       "</style>\n",
       "<table border=\"1\" class=\"dataframe\">\n",
       "  <thead>\n",
       "    <tr style=\"text-align: right;\">\n",
       "      <th></th>\n",
       "      <th>mol_feat</th>\n",
       "      <th>y</th>\n",
       "    </tr>\n",
       "  </thead>\n",
       "  <tbody>\n",
       "    <tr>\n",
       "      <th>0</th>\n",
       "      <td>[(x, [tensor([0., 1., 0., 0., 0., 0., 0., 0., ...</td>\n",
       "      <td>a</td>\n",
       "    </tr>\n",
       "    <tr>\n",
       "      <th>1</th>\n",
       "      <td>[(x, [tensor([0., 1., 0., 0., 0., 0., 0., 0., ...</td>\n",
       "      <td>b</td>\n",
       "    </tr>\n",
       "    <tr>\n",
       "      <th>2</th>\n",
       "      <td>[(x, [tensor([0., 1., 0., 0., 0., 0., 0., 0., ...</td>\n",
       "      <td>a</td>\n",
       "    </tr>\n",
       "  </tbody>\n",
       "</table>\n",
       "</div>"
      ],
      "text/plain": [
       "                                            mol_feat  y\n",
       "0  [(x, [tensor([0., 1., 0., 0., 0., 0., 0., 0., ...  a\n",
       "1  [(x, [tensor([0., 1., 0., 0., 0., 0., 0., 0., ...  b\n",
       "2  [(x, [tensor([0., 1., 0., 0., 0., 0., 0., 0., ...  a"
      ]
     },
     "execution_count": 5,
     "metadata": {},
     "output_type": "execute_result"
    }
   ],
   "source": [
    "\n",
    "sk_transformer.fit(['CCC', 'CC', 'CCCC'])\n",
    "a = sk_transformer.transform(['CCC', 'CC', 'CCCC'])\n",
    "b = sk_transformer.fit_transform(['CCC', 'CC', 'CCCC'])\n",
    "print(a, b)\n",
    "\n",
    "df = pd.DataFrame({'mol_feat': a, 'y': ['a', 'b', 'a']})\n",
    "df\n"
   ]
  },
  {
   "cell_type": "code",
   "execution_count": 6,
   "id": "74587bcb-3619-4ac4-a768-cc9b2174ccc0",
   "metadata": {
    "tags": []
   },
   "outputs": [
    {
     "data": {
      "text/plain": [
       "[Data(x=[4, 26], edge_index=[2, 3], edge_attr=[3, 9]),\n",
       " Data(x=[2, 26], edge_index=[2, 1], edge_attr=[1, 9])]"
      ]
     },
     "execution_count": 6,
     "metadata": {},
     "output_type": "execute_result"
    }
   ],
   "source": [
    "mol_featurizer_config = {\n",
    "    'name': 'mol_feat',\n",
    "    'type': 'fleet.model_builder.featurizers.MoleculeFeaturizer',\n",
    "    'forward_args': { 'mol': '$x1' },\n",
    "    'constructor_args': {\n",
    "        'allow_unknown': False,\n",
    "        'sym_bond_list': False,\n",
    "        'per_atom_fragmentation': False\n",
    "    }\n",
    "}\n",
    "mol_feat = FeaturizerConfig.parse_obj(mol_featurizer_config).__root__.create()\n",
    "t = FunctionTransformer(mol_feat)\n",
    "t.transform(['CCCC', 'CC'])"
   ]
  },
  {
   "cell_type": "code",
   "execution_count": 7,
   "id": "dc54676a-6fd6-4a73-9387-fd3c63e85217",
   "metadata": {
    "tags": []
   },
   "outputs": [],
   "source": [
    "dataset_config = TorchDatasetConfig.parse_obj({\n",
    "    'name': 'sampl',\n",
    "    'feature_columns': [\n",
    "        { 'name': 'x1', 'dataType': { 'domainKind': 'smiles', } },\n",
    "        { 'name': 'x2', 'dataType': { 'domainKind': 'categorical', 'classes': {'a': 1, 'b': 2}} },\n",
    "        { 'name': 'x3', 'dataType': { 'domainKind': 'numeric', } },\n",
    "    ],\n",
    "    'target_columns': [{ 'name': 'y', 'dataType': { 'domainKind': 'numeric', }, 'outModule': 'out' }],\n",
    "    'featurizers': [mol_featurizer_config]\n",
    "})\n",
    "pipe = data.PreprocessingPipeline(dataset_config)\n",
    "\n",
    "N = 100\n",
    "\n",
    "df = pd.DataFrame({\n",
    "    'x1': ['C' * random.randint(4, 16) for i in range(N)],\n",
    "    'x2': [ random.choice(['a', 'b']) for i in range(N) ],\n",
    "    'x3': random.randn(N),\n",
    "    'y': random.randn(N),\n",
    "})\n",
    "apply_split_indexes(df)\n",
    "# pipe.fit(*pipe.get_X_and_y(df))\n",
    "# tdf = pipe.transform(df)"
   ]
  },
  {
   "cell_type": "code",
   "execution_count": 8,
   "id": "f9ec6e80-3061-4c51-a470-e0e19903318e",
   "metadata": {
    "tags": []
   },
   "outputs": [
    {
     "data": {
      "text/plain": [
       "(6,)"
      ]
     },
     "execution_count": 8,
     "metadata": {},
     "output_type": "execute_result"
    }
   ],
   "source": [
    "dataset = data.MarinerTorchDataset(data=df, dataset_config=dataset_config)\n",
    "dataset[0:5]['y'].shape\n"
   ]
  },
  {
   "cell_type": "code",
   "execution_count": 9,
   "id": "c1534056-0ed0-4525-880d-7b0357fad9c7",
   "metadata": {
    "tags": []
   },
   "outputs": [],
   "source": [
    "\n",
    "spec = TorchModelSpec.parse_obj({\n",
    "        'name': 'test model',\n",
    "        'dataset': dataset_config,\n",
    "        'spec': {\n",
    "            'layers': [\n",
    "                {\n",
    "                    'name': 'concat',\n",
    "                    'type': 'fleet.model_builder.layers.Concat',\n",
    "                    'constructor_args': {\n",
    "                        'dim': -1\n",
    "                    },\n",
    "                    'forward_args': {\n",
    "                        'xs': [\n",
    "                            '$pool',\n",
    "                            '$x2',\n",
    "                            '$x3',\n",
    "                        ]\n",
    "                    }\n",
    "                },\n",
    "                {\n",
    "                    'name': 'out',\n",
    "                    'type': 'torch.nn.Linear',\n",
    "                    'constructor_args': {\n",
    "                        'in_features': 26 + 1 + 1,\n",
    "                        'out_features': 1\n",
    "                    },\n",
    "                    'forward_args': {\n",
    "                        'input': '$concat'\n",
    "                    }\n",
    "                },\n",
    "                 {\n",
    "                    'name': 'gcn',\n",
    "                    'type': 'torch_geometric.nn.GCNConv',\n",
    "                    'constructor_args': {\n",
    "                        'in_channels': 26,\n",
    "                        'out_channels': 10\n",
    "                    },\n",
    "                    'forward_args': {\n",
    "                        'x': '$mol_feat.x',\n",
    "                        'edge_index': '$mol_feat.edge_index',\n",
    "                    }\n",
    "                },\n",
    "                {\n",
    "                    'name': 'pool',\n",
    "                    'type': 'fleet.model_builder.layers.GlobalPooling',\n",
    "                    'constructor_args': {\n",
    "                        'aggr': 'sum'\n",
    "                    },\n",
    "                    'forward_args': {\n",
    "                        'x': '$mol_feat.x',\n",
    "                        'edge_index': '$mol_feat.edge_index',\n",
    "                        'batch': '$mol_feat.batch',\n",
    "                    }\n",
    "                }, \n",
    "            ]\n",
    "        }\n",
    "    })"
   ]
  },
  {
   "cell_type": "code",
   "execution_count": 10,
   "id": "43efe229-29a3-436c-ac91-2224161fc130",
   "metadata": {
    "tags": []
   },
   "outputs": [
    {
     "data": {
      "text/plain": [
       "torch.Size([316, 26])"
      ]
     },
     "execution_count": 10,
     "metadata": {},
     "output_type": "execute_result"
    }
   ],
   "source": [
    "dm = data.DataModule(data=df, config=dataset_config)\n",
    "dm.setup()\n",
    "dataloader = dm.train_dataloader()\n",
    "batch = next(iter(dataloader))\n",
    "batch['mol_feat'].x.shape"
   ]
  },
  {
   "cell_type": "code",
   "execution_count": 11,
   "id": "31efa40f-0fed-45c0-b06d-3d20754a4439",
   "metadata": {
    "tags": []
   },
   "outputs": [
    {
     "data": {
      "text/plain": [
       "torch.Size([32, 1])"
      ]
     },
     "execution_count": 11,
     "metadata": {},
     "output_type": "execute_result"
    }
   ],
   "source": [
    "batch['y'].shape"
   ]
  },
  {
   "cell_type": "code",
   "execution_count": 12,
   "id": "ab786986-c0de-48ec-a174-d75d00929463",
   "metadata": {
    "tags": []
   },
   "outputs": [
    {
     "data": {
      "text/plain": [
       "torch.Size([32, 1])"
      ]
     },
     "execution_count": 12,
     "metadata": {},
     "output_type": "execute_result"
    }
   ],
   "source": [
    "batch['x2'].shape"
   ]
  },
  {
   "cell_type": "code",
   "execution_count": 13,
   "id": "a8ba3aa2-4a7a-415f-96a6-e90b4aba5cd5",
   "metadata": {
    "tags": []
   },
   "outputs": [
    {
     "data": {
      "text/plain": [
       "torch.Size([32, 1])"
      ]
     },
     "execution_count": 13,
     "metadata": {},
     "output_type": "execute_result"
    }
   ],
   "source": [
    "batch['x3'].shape"
   ]
  },
  {
   "cell_type": "code",
   "execution_count": 14,
   "id": "b1405a5f-2f43-4f74-a878-fc4c776ecd0a",
   "metadata": {
    "tags": []
   },
   "outputs": [
    {
     "data": {
      "text/plain": [
       "{'y': tensor([[2.6467],\n",
       "         [1.6439],\n",
       "         [2.5513],\n",
       "         [3.2856],\n",
       "         [2.2475],\n",
       "         [2.3474],\n",
       "         [2.7054],\n",
       "         [1.3772],\n",
       "         [2.0324],\n",
       "         [2.8186],\n",
       "         [2.2451],\n",
       "         [2.4320],\n",
       "         [2.7756],\n",
       "         [2.2322],\n",
       "         [1.5156],\n",
       "         [2.6630],\n",
       "         [1.8293],\n",
       "         [2.6450],\n",
       "         [2.9735],\n",
       "         [1.7742],\n",
       "         [3.1206],\n",
       "         [3.0497],\n",
       "         [1.5635],\n",
       "         [1.6194],\n",
       "         [2.3243],\n",
       "         [2.9685],\n",
       "         [1.0631],\n",
       "         [1.4155],\n",
       "         [2.3788],\n",
       "         [1.6472],\n",
       "         [2.5427],\n",
       "         [2.9208]], grad_fn=<AddmmBackward0>)}"
      ]
     },
     "execution_count": 14,
     "metadata": {},
     "output_type": "execute_result"
    }
   ],
   "source": [
    "model = CustomModel(config=spec.spec, dataset_config=spec.dataset)\n",
    "model(batch)"
   ]
  },
  {
   "cell_type": "code",
   "execution_count": 15,
   "id": "a69e7ffe-2d7d-49cf-8bbf-e52cad630d4b",
   "metadata": {
    "tags": []
   },
   "outputs": [
    {
     "name": "stderr",
     "output_type": "stream",
     "text": [
      "WARNING  [model_functions.py:114] Not creating MarinerLogger because experiment_id or experiment_name or user_id are missing\n",
      "WARNING  [model_functions.py:97] params.checkpoint_config is required to log models\n",
      "GPU available: False, used: False\n",
      "TPU available: False, using: 0 TPU cores\n",
      "IPU available: False, using: 0 IPUs\n",
      "HPU available: False, using: 0 HPUs\n",
      "\n",
      "  | Name   | Type       | Params\n",
      "--------------------------------------\n",
      "0 | _model | ModuleDict | 299   \n",
      "--------------------------------------\n",
      "299       Trainable params\n",
      "0         Non-trainable params\n",
      "299       Total params\n",
      "0.001     Total estimated model params size (MB)\n",
      "/home/vilma/.cache/pypoetry/virtualenvs/mariner-r7bqPCYW-py3.9/lib/python3.9/site-packages/lightning/pytorch/trainer/connectors/data_connector.py:430: PossibleUserWarning: The dataloader, val_dataloader, does not have many workers which may be a bottleneck. Consider increasing the value of the `num_workers` argument` (try 8 which is the number of cpus on this machine) in the `DataLoader` init to improve performance.\n",
      "  rank_zero_warn(\n",
      "/home/vilma/.cache/pypoetry/virtualenvs/mariner-r7bqPCYW-py3.9/lib/python3.9/site-packages/lightning/pytorch/utilities/data.py:76: UserWarning: Trying to infer the `batch_size` from an ambiguous collection. The batch size we found is 182. To avoid any miscalculations, use `self.log(..., batch_size=batch_size)`.\n",
      "  warning_cache.warn(\n",
      "/home/vilma/.cache/pypoetry/virtualenvs/mariner-r7bqPCYW-py3.9/lib/python3.9/site-packages/lightning/pytorch/trainer/connectors/data_connector.py:430: PossibleUserWarning: The dataloader, train_dataloader, does not have many workers which may be a bottleneck. Consider increasing the value of the `num_workers` argument` (try 8 which is the number of cpus on this machine) in the `DataLoader` init to improve performance.\n",
      "  rank_zero_warn(\n",
      "/home/vilma/.cache/pypoetry/virtualenvs/mariner-r7bqPCYW-py3.9/lib/python3.9/site-packages/lightning/pytorch/loops/fit_loop.py:280: PossibleUserWarning: The number of training batches (2) is smaller than the logging interval Trainer(log_every_n_steps=16). Set a lower value for log_every_n_steps if you want to see logs for the training epoch.\n",
      "  rank_zero_warn(\n",
      "`Trainer.fit` stopped: `max_epochs=1` reached.\n",
      "WARNING  [model_functions.py:148] Skipping logging models because checkpoint_callback is missing.\n"
     ]
    },
    {
     "data": {
      "text/plain": [
       "Result(mlflow_experiment_id='90', mlflow_model_version=None)"
      ]
     },
     "execution_count": 15,
     "metadata": {},
     "output_type": "execute_result"
    }
   ],
   "source": [
    "model_functions.fit(\n",
    "    spec,\n",
    "    dataset=df,\n",
    "    train_config=TorchTrainingConfig(epochs=1,optimizer=optimizers.AdamOptimizer()),\n",
    "    mlflow_model_name=f\"Test Model {datetime.now()}\",\n",
    "    mlflow_experiment_name=f\"Test Experiment {datetime.now()}\",\n",
    ")"
   ]
  }
 ],
 "metadata": {
  "kernelspec": {
   "display_name": "Python 3 (ipykernel)",
   "language": "python",
   "name": "python3"
  },
  "language_info": {
   "codemirror_mode": {
    "name": "ipython",
    "version": 3
   },
   "file_extension": ".py",
   "mimetype": "text/x-python",
   "name": "python",
   "nbconvert_exporter": "python",
   "pygments_lexer": "ipython3",
   "version": "3.9.16"
  }
 },
 "nbformat": 4,
 "nbformat_minor": 5
}
