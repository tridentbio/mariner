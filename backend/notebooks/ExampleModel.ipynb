{
 "cells": [
  {
   "cell_type": "code",
   "execution_count": null,
   "id": "19391319-14f6-4fba-90a4-ccdddef34129",
   "metadata": {},
   "outputs": [],
   "source": [
    "# import pandas as pd\n",
    "import torch\n",
    "import torch.nn as nn\n",
    "from torch.utils.data import Dataset\n",
    "import torch_geometric.nn as pygnn\n",
    "from graphene.dataloader.featurizers import MoleculeFeaturizer"
   ]
  },
  {
   "cell_type": "code",
   "execution_count": 8,
   "id": "cae0a4a8-c9f4-4c8d-b17b-6201b7c3bddc",
   "metadata": {},
   "outputs": [
    {
     "data": {
      "text/plain": [
       "Data(edge_attr=[4, 11], edge_index=[2, 4], x=[3, 30])"
      ]
     },
     "execution_count": 8,
     "metadata": {},
     "output_type": "execute_result"
    }
   ],
   "source": [
    "feat = MoleculeFeaturizer(allow_unknown=True)\n",
    "\n",
    "IN_CHANNELS = 30\n",
    "OUT_CHANNELS = 64 # saida da segunda camada\n",
    "\n",
    "feat('CCC')"
   ]
  },
  {
   "cell_type": "code",
   "execution_count": 22,
   "id": "2d7325f9-9473-4e69-9129-dd1daf9c6343",
   "metadata": {},
   "outputs": [],
   "source": [
    "class ExampleDataset(Dataset):\n",
    "    \n",
    "    def __init__(self, path: str, target: str = None, **kwargs):\n",
    "        self.feat = MoleculeFeaturizer(**kwargs)\n",
    "        self.data = pd.read_csv(path)\n",
    "        self.target = target\n",
    "\n",
    "    def __len__(self):\n",
    "        return len(self.data)\n",
    "\n",
    "    def __getitem__(self, idx):\n",
    "        sample = dict(self.data.iloc[idx, :])\n",
    "        graph = self.feat(sample['smiles'])\n",
    "\n",
    "        if self.target:\n",
    "            graph.y = torch.tensor([sample[self.target]])\n",
    "        \n",
    "        return graph"
   ]
  },
  {
   "cell_type": "code",
   "execution_count": 25,
   "id": "d6f60901-6e8b-4925-800b-bd467d80ed0d",
   "metadata": {},
   "outputs": [
    {
     "data": {
      "text/plain": [
       "<__main__.ExampleDataset at 0x1bcb23825b0>"
      ]
     },
     "execution_count": 25,
     "metadata": {},
     "output_type": "execute_result"
    }
   ],
   "source": [
    "dataset = ExampleDataset(path='zinc_subset.csv', target='mwt', allow_unknown=True)\n",
    "dataset"
   ]
  },
  {
   "cell_type": "code",
   "execution_count": 29,
   "id": "4e665607-8366-4a24-a647-5a5c7c7e1233",
   "metadata": {},
   "outputs": [],
   "source": [
    "from torch_geometric.data import DataLoader\n",
    "\n",
    "dataloader = DataLoader(dataset, batch_size=20)"
   ]
  },
  {
   "cell_type": "code",
   "execution_count": 35,
   "id": "193206fd-249b-4183-854b-77ae113a8ed6",
   "metadata": {},
   "outputs": [
    {
     "data": {
      "text/plain": [
       "Batch(batch=[413], edge_attr=[882, 11], edge_index=[2, 882], ptr=[21], x=[413, 30], y=[20])"
      ]
     },
     "execution_count": 35,
     "metadata": {},
     "output_type": "execute_result"
    }
   ],
   "source": [
    "next(iter(dataloader))"
   ]
  },
  {
   "cell_type": "code",
   "execution_count": 50,
   "id": "6b09cdf3-4e24-4e9e-a3a8-b18ca6f236ba",
   "metadata": {},
   "outputs": [],
   "source": [
    "from torch_geometric.nn import global_add_pool\n",
    "\n",
    "\n",
    "class GlobalAddPool(nn.Module):\n",
    "    \n",
    "    def __init__(self):\n",
    "        super().__init__()\n",
    "        self.func = global_add_pool\n",
    "        \n",
    "    def forward(self, x, edge_list):\n",
    "        return self.global_add_pool(x, edge_list)\n",
    "\n",
    "\n",
    "class ExampleModel(nn.Module):\n",
    "    \n",
    "    def __init__(self, num_layers: int = 4, in_channels: int = 30, hidden_channels: int = 64, out_channels: int = 1, **kwargs):\n",
    "        super().__init__()\n",
    "        layers = []\n",
    "        \n",
    "        self.pool_function = GlobalAddPool()\n",
    "        \n",
    "        for _ in range(num_layers):\n",
    "            mlp = nn.Sequential(\n",
    "                nn.Linear(in_channels, hidden_channels),\n",
    "                nn.ReLU(),\n",
    "                nn.Linear(hidden_channels, hidden_channels)\n",
    "            )\n",
    "            \n",
    "            layers.append(pygnn.GINConv(mlp, train_eps=True))\n",
    "            in_channels = hidden_channels\n",
    "\n",
    "        self.layers = nn.ModuleList(layers)\n",
    "        self.out = nn.Linear(in_features=hidden_channels, out_features=1)\n",
    "        \n",
    "    def forward(self, batch):\n",
    "        x, edge_index, batch = batch.x, batch.edge_index, batch.batch\n",
    "        \n",
    "        for layer in self.layers:\n",
    "            x = layer(x, edge_index)\n",
    "            \n",
    "        pred = self.pool_function(x, batch)\n",
    "        pred = self.out(pred)\n",
    "        \n",
    "        return pred"
   ]
  },
  {
   "cell_type": "code",
   "execution_count": 51,
   "id": "16e6593b-cf57-45b8-940b-108e43a8d451",
   "metadata": {},
   "outputs": [
    {
     "data": {
      "text/plain": [
       "ExampleModel(\n",
       "  (pool_function): GlobalAddPool()\n",
       "  (layers): ModuleList(\n",
       "    (0): GINConv(nn=Sequential(\n",
       "      (0): Linear(in_features=30, out_features=64, bias=True)\n",
       "      (1): ReLU()\n",
       "      (2): Linear(in_features=64, out_features=64, bias=True)\n",
       "    ))\n",
       "    (1): GINConv(nn=Sequential(\n",
       "      (0): Linear(in_features=64, out_features=64, bias=True)\n",
       "      (1): ReLU()\n",
       "      (2): Linear(in_features=64, out_features=64, bias=True)\n",
       "    ))\n",
       "    (2): GINConv(nn=Sequential(\n",
       "      (0): Linear(in_features=64, out_features=64, bias=True)\n",
       "      (1): ReLU()\n",
       "      (2): Linear(in_features=64, out_features=64, bias=True)\n",
       "    ))\n",
       "    (3): GINConv(nn=Sequential(\n",
       "      (0): Linear(in_features=64, out_features=64, bias=True)\n",
       "      (1): ReLU()\n",
       "      (2): Linear(in_features=64, out_features=64, bias=True)\n",
       "    ))\n",
       "  )\n",
       "  (out): Linear(in_features=64, out_features=1, bias=True)\n",
       ")"
      ]
     },
     "execution_count": 51,
     "metadata": {},
     "output_type": "execute_result"
    }
   ],
   "source": [
    "model = ExampleModel()\n",
    "model"
   ]
  }
 ],
 "metadata": {
  "kernelspec": {
   "display_name": "Python 3 (ipykernel)",
   "language": "python",
   "name": "python3"
  },
  "language_info": {
   "codemirror_mode": {
    "name": "ipython",
    "version": 3
   },
   "file_extension": ".py",
   "mimetype": "text/x-python",
   "name": "python",
   "nbconvert_exporter": "python",
   "pygments_lexer": "ipython3",
   "version": "3.9.7"
  }
 },
 "nbformat": 4,
 "nbformat_minor": 5
}
