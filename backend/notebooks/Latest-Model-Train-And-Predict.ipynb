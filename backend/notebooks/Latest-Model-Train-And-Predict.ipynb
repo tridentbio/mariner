{
 "cells": [
  {
   "cell_type": "code",
   "execution_count": 4,
   "id": "fc00d17a-6023-4ec3-901c-95ee10a44428",
   "metadata": {
    "tags": []
   },
   "outputs": [],
   "source": [
    "from dotenv import load_dotenv\n",
    "\n",
    "load_dotenv(\".env\")\n",
    "load_dotenv(\".env.secret\", override=True)\n",
    "from fleet.scikit_.schemas import SklearnModelSpec\n",
    "import pandas as pd\n",
    "\n",
    "schema = \"\"\"\n",
    "name: HIV Random Forest Classifier\n",
    "framework: sklearn\n",
    "dataset:\n",
    "  name: HIV\n",
    "  strategy: pipeline\n",
    "  featureColumns:\n",
    "    - name: smiles\n",
    "      dataType:\n",
    "        domainKind: smiles\n",
    "      featurizers:\n",
    "        - name: MolFPFeaturizer\n",
    "          type: molfeat.trans.fp.FPVecFilteredTransformer\n",
    "      constructor_args:\n",
    "        del_invariant: False\n",
    "        length: 512\n",
    "    - name: activity\n",
    "      dataType:\n",
    "        domainKind: categorical\n",
    "        classes:\n",
    "          CI: 1\n",
    "          CM: 0\n",
    "      featurizers:\n",
    "        - name: OneHotEncoder\n",
    "          type: sklearn.preprocessing.OneHotEncoder\n",
    "  targetColumns:\n",
    "    - name: HIV_active\n",
    "      dataType:\n",
    "        domainKind: categorical\n",
    "        classes:\n",
    "          positive: 1\n",
    "          negative: 0\n",
    "      featurizers:\n",
    "        - name: LabelEncoder-Out\n",
    "          type: sklearn.preprocessing.LabelEncoder\n",
    "spec:\n",
    "  model:\n",
    "    type: sklearn.ensemble.RandomForestClassifier\n",
    "\"\"\"\n",
    "\n",
    "spec = SklearnModelSpec.from_yaml_str(schema)\n",
    "\n",
    "import pandas as pd\n",
    "from pathlib import Path\n",
    "\n",
    "datasets = Path(\"..\") / \"tests\" / \"data\" / \"csv\"\n",
    "df = pd.read_csv(datasets / \"HIV.csv\")\n",
    "df[\"HIV_active\"] = df[\"HIV_active\"].apply(\n",
    "    lambda x: (\"positive\" if x else \"negative\")\n",
    ")\n",
    "df.HIV_active.unique()\n",
    "df.to_csv(datasets / \"HIV2.csv\", index=False)"
   ]
  },
  {
   "cell_type": "code",
   "execution_count": 2,
   "id": "01cdc41f-5ed7-4a5c-b352-287a567351e6",
   "metadata": {
    "tags": []
   },
   "outputs": [
    {
     "data": {
      "text/plain": [
       "[('CO', 0), ('CI', 1)]"
      ]
     },
     "execution_count": 2,
     "metadata": {},
     "output_type": "execute_result"
    }
   ],
   "source": [
    "classes = {\"CI\": 1, \"CO\": 0}\n",
    "entries = list(classes.items())\n",
    "entries.sort(key=lambda x: x[1])\n",
    "entries"
   ]
  },
  {
   "cell_type": "code",
   "execution_count": 3,
   "id": "5527834b-bbd2-4c43-b7e4-f5a94d27b5c7",
   "metadata": {
    "tags": []
   },
   "outputs": [
    {
     "name": "stdout",
     "output_type": "stream",
     "text": [
      "Registered Mlflow Model: <RegisteredModel: creation_timestamp=1697481420737, description='TEST Model description', last_updated_timestamp=1697543087939, latest_versions=[<ModelVersion: creation_timestamp=1697543087939, current_stage='None', description='', last_updated_timestamp=1697543087939, name='TEST', run_id='127d831cdfcc4681a7426e7cf9fd4774', run_link='', source='s3://dev-mariner-datasets/33/127d831cdfcc4681a7426e7cf9fd4774/artifacts/model', status='READY', status_message='', tags={}, user_id='', version='17'>], name='TEST', tags={'stage': 'test'}>\n"
     ]
    }
   ],
   "source": [
    "from fleet import model_functions\n",
    "from mariner.core import mlflowapi  # TODO: move to fleet\n",
    "\n",
    "# Currently it is necessary to create a mlflow model\n",
    "# To make sure every model is tracked. We try to not\n",
    "# create more dependencies from fleet to mariner, which\n",
    "# is why the mariner's experiment and model data is not\n",
    "# required\n",
    "mlflow_model_name = \"TEST\"\n",
    "reg_model = mlflowapi.get_registered_model(name=mlflow_model_name)\n",
    "if not reg_model:\n",
    "    reg_model = mlflowapi.create_registered_model(\n",
    "        name=mlflow_model_name,\n",
    "        description=\"TEST Model description\",\n",
    "        tags={\"stage\": \"test\"},\n",
    "    )\n",
    "print(\"Registered Mlflow Model: %r\" % reg_model)"
   ]
  },
  {
   "cell_type": "code",
   "execution_count": 4,
   "id": "4cedb829-2a63-4121-96c2-cd369d06ceae",
   "metadata": {
    "tags": []
   },
   "outputs": [
    {
     "data": {
      "text/plain": [
       "'TEST-TRAIN-32'"
      ]
     },
     "execution_count": 4,
     "metadata": {},
     "output_type": "execute_result"
    }
   ],
   "source": [
    "import re\n",
    "\n",
    "mlflow_experiment_name = \"TEST-TRAIN-\"\n",
    "experiments = mlflowapi.search_experiments(mlflow_experiment_name)\n",
    "last_experiment = experiments[0]\n",
    "\n",
    "\n",
    "def inc_name(name: str):\n",
    "    pattern = re.compile(r\"\\d+$\")\n",
    "    matchs = re.findall(pattern, name)\n",
    "    match = matchs[-1]\n",
    "    index_ = name.index(match)\n",
    "    return name[:index_] + str(int(match) + 1)\n",
    "\n",
    "\n",
    "mlflow_experiment_name = inc_name(last_experiment.name)\n",
    "mlflow_experiment_name"
   ]
  },
  {
   "cell_type": "code",
   "execution_count": 5,
   "id": "efd0c6db-ee8a-4fbc-9d4b-470f0d49e551",
   "metadata": {
    "tags": []
   },
   "outputs": [
    {
     "name": "stdout",
     "output_type": "stream",
     "text": [
      "categories ['CM', 'CI']\n",
      "['smiles-out', 'activity-out']\n",
      "['HIV_active-out']\n"
     ]
    },
    {
     "name": "stderr",
     "output_type": "stream",
     "text": [
      "/home/vilma/.cache/pypoetry/virtualenvs/mariner-r7bqPCYW-py3.10/lib/python3.10/site-packages/tqdm/auto.py:22: TqdmWarning: IProgress not found. Please update jupyter and ipywidgets. See https://ipywidgets.readthedocs.io/en/stable/user_install.html\n",
      "  from .autonotebook import tqdm as notebook_tqdm\n",
      "/home/vilma/.cache/pypoetry/virtualenvs/mariner-r7bqPCYW-py3.10/lib/python3.10/site-packages/_distutils_hack/__init__.py:33: UserWarning: Setuptools is replacing distutils.\n",
      "  warnings.warn(\"Setuptools is replacing distutils.\")\n",
      "2023/10/17 09:40:42 INFO mlflow.tracking._model_registry.client: Waiting up to 300 seconds for model version to finish creation.                     Model name: TEST, version 18\n",
      "Failed metrics to http://localhost:8000 /api/v1/experiments/epoch_metrics. Make sure the env var \"SERVER_HOST\" is populated in the ray services, and that it points to the mariner backend\n"
     ]
    },
    {
     "name": "stdout",
     "output_type": "stream",
     "text": [
      "['smiles-out', 'activity-out']\n",
      "['HIV_active-out']\n"
     ]
    },
    {
     "data": {
      "text/plain": [
       "Result(mlflow_experiment_id='34', mlflow_model_version=<ModelVersion: creation_timestamp=1697546442759, current_stage='None', description='', last_updated_timestamp=1697546442759, name='TEST', run_id='180d72786e3f4bad8b7ce65369799864', run_link='', source='s3://dev-mariner-datasets/34/180d72786e3f4bad8b7ce65369799864/artifacts/model', status='READY', status_message='', tags={}, user_id='', version='18'>)"
      ]
     },
     "execution_count": 5,
     "metadata": {},
     "output_type": "execute_result"
    }
   ],
   "source": [
    "result = model_functions.fit(\n",
    "    spec=spec,\n",
    "    dataset=df,\n",
    "    mlflow_model_name=mlflow_model_name,\n",
    "    mlflow_experiment_name=mlflow_experiment_name,\n",
    "    experiment_name=\"TEST-TRAIN-1\",\n",
    "    user_id=1,\n",
    "    train_config=None,\n",
    ")\n",
    "result"
   ]
  },
  {
   "cell_type": "markdown",
   "id": "5594a23e-ab50-4835-9bd5-11ef2e806870",
   "metadata": {},
   "source": [
    "# The following code can be run standalone."
   ]
  },
  {
   "cell_type": "code",
   "execution_count": 6,
   "id": "19f653e4-46a1-42f7-936d-15625a179740",
   "metadata": {
    "tags": []
   },
   "outputs": [
    {
     "name": "stdout",
     "output_type": "stream",
     "text": [
      "<ModelVersion: creation_timestamp=1697546442759, current_stage='None', description='', last_updated_timestamp=1697546442759, name='TEST', run_id='180d72786e3f4bad8b7ce65369799864', run_link='', source='s3://dev-mariner-datasets/34/180d72786e3f4bad8b7ce65369799864/artifacts/model', status='READY', status_message='', tags={}, user_id='', version='18'>\n",
      "categories ['CM', 'CI']\n"
     ]
    }
   ],
   "source": [
    "from dotenv import load_dotenv\n",
    "\n",
    "load_dotenv(\".env\")\n",
    "load_dotenv(\".env.secret\", override=True)\n",
    "import pandas as pd\n",
    "from pathlib import Path\n",
    "from mariner.core import mlflowapi\n",
    "from fleet import (\n",
    "    mlflow as fleet_mlflowapi,\n",
    ")  # Todo merge other api into this one\n",
    "from fleet import model_functions\n",
    "import mlflow\n",
    "from fleet.scikit_.schemas import SklearnModelSpec\n",
    "\n",
    "mlflow_model_name = \"TEST\"\n",
    "datasets = Path(\".\") / \"tests\" / \"data\" / \"csv\"\n",
    "df = pd.read_csv(datasets / \"HIV.csv\")\n",
    "test_data = df[df.step == 3]\n",
    "\n",
    "reg_model = mlflowapi.get_registered_model(name=mlflow_model_name)\n",
    "version = reg_model.latest_versions[-1]\n",
    "print(version)\n",
    "run = mlflowapi.get_run(version.run_id)\n",
    "pipeline = fleet_mlflowapi.load_pipeline(version.run_id)\n",
    "schema = mlflow.artifacts.load_text(\n",
    "    run.info.artifact_uri + \"/model_config.yaml\"\n",
    ")\n",
    "spec = SklearnModelSpec.from_yaml_str(schema)"
   ]
  },
  {
   "cell_type": "code",
   "execution_count": 7,
   "id": "b6eb55a0-f254-43b9-95e7-f76d71923a94",
   "metadata": {
    "tags": []
   },
   "outputs": [
    {
     "data": {
      "text/plain": [
       "LabelEncoderConfig(type='sklearn.preprocessing.LabelEncoder', constructor_args=None, name='HIV_active-out', forward_args={'X': '$HIV_active'})"
      ]
     },
     "execution_count": 7,
     "metadata": {},
     "output_type": "execute_result"
    }
   ],
   "source": [
    "pipeline.dataset_config.featurizers[-1]"
   ]
  },
  {
   "cell_type": "code",
   "execution_count": 8,
   "id": "1c623e54-08d9-4c07-a1b5-238f8fbc385d",
   "metadata": {
    "tags": []
   },
   "outputs": [
    {
     "name": "stdout",
     "output_type": "stream",
     "text": [
      "['avocado' 'avocado' 'avocado']\n",
      "['potato' 'potato' 'potato']\n"
     ]
    },
    {
     "name": "stderr",
     "output_type": "stream",
     "text": [
      "/home/vilma/.cache/pypoetry/virtualenvs/mariner-r7bqPCYW-py3.10/lib64/python3.10/site-packages/sklearn/preprocessing/_label.py:153: DataConversionWarning: A column-vector y was passed when a 1d array was expected. Please change the shape of y to (n_samples, ), for example using ravel().\n",
      "  y = column_or_1d(y, warn=True)\n",
      "/home/vilma/.cache/pypoetry/virtualenvs/mariner-r7bqPCYW-py3.10/lib64/python3.10/site-packages/sklearn/preprocessing/_label.py:153: DataConversionWarning: A column-vector y was passed when a 1d array was expected. Please change the shape of y to (n_samples, ), for example using ravel().\n",
      "  y = column_or_1d(y, warn=True)\n"
     ]
    },
    {
     "data": {
      "text/plain": [
       "array(['avocado', 'potato'], dtype=object)"
      ]
     },
     "execution_count": 8,
     "metadata": {},
     "output_type": "execute_result"
    }
   ],
   "source": [
    "import numpy as np\n",
    "\n",
    "featurizer, adapt_args = pipeline.featurizers[\"HIV_active-out\"]\n",
    "# adapt_args(args=(['0']), method=featurizer.transform)\n",
    "print(featurizer.inverse_transform(np.zeros((3, 1), dtype=int)))\n",
    "print(featurizer.inverse_transform(np.ones((3, 1), dtype=int)))\n",
    "featurizer.classes_"
   ]
  },
  {
   "cell_type": "code",
   "execution_count": 9,
   "id": "140b2f36-beee-4adf-90e4-10c2087daf27",
   "metadata": {
    "tags": []
   },
   "outputs": [
    {
     "name": "stdout",
     "output_type": "stream",
     "text": [
      "categories ['CM', 'CI']\n",
      "skip_roots=%r ['HIV_active']\n",
      "Adding config %r smiles\n",
      "Adding config %r smiles-out\n",
      "Adding config %r activity\n",
      "Adding config %r activity-out\n",
      "['smiles-out', 'activity-out']\n",
      "skip_roots=%r ['smiles', 'activity']\n",
      "Adding config %r HIV_active\n",
      "Adding config %r HIV_active-out\n"
     ]
    },
    {
     "data": {
      "text/plain": [
       "{'HIV_active': ['potato', 'potato', 'potato', 'potato', 'potato', 'potato']}"
      ]
     },
     "execution_count": 9,
     "metadata": {},
     "output_type": "execute_result"
    }
   ],
   "source": [
    "model_functions.predict(\n",
    "    spec=spec,\n",
    "    mlflow_model_name=mlflow_model_name,\n",
    "    mlflow_model_version=version.version,\n",
    "    input_=test_data,\n",
    "    return_labels=True,\n",
    ")"
   ]
  },
  {
   "cell_type": "code",
   "execution_count": 10,
   "id": "0e05e4c3-42f3-4f22-b7f8-9d70506159b7",
   "metadata": {},
   "outputs": [
    {
     "name": "stdout",
     "output_type": "stream",
     "text": [
      "  (0, 0)\t1.0\n",
      "  (0, 3)\t1.0\n",
      "  (1, 0)\t1.0\n",
      "  (1, 3)\t1.0\n",
      "  (2, 1)\t1.0\n",
      "  (2, 4)\t1.0\n",
      "  (3, 2)\t1.0\n",
      "  (3, 4)\t1.0\n",
      "[['A' 0]\n",
      " ['A' 0]\n",
      " ['B' 1]\n",
      " ['C' 1]]\n",
      "[0 0 1 1]\n",
      "[0 0 1 1]\n",
      "  (0, 0)\t1.0\n",
      "  (1, 0)\t1.0\n",
      "  (2, 1)\t1.0\n",
      "  (3, 2)\t1.0\n",
      "[['A']\n",
      " ['A']\n",
      " ['B']\n",
      " ['C']]\n",
      "[0 0 1 1]\n",
      "[0 0 1 1]\n"
     ]
    },
    {
     "name": "stderr",
     "output_type": "stream",
     "text": [
      "/home/vilma/.cache/pypoetry/virtualenvs/mariner-r7bqPCYW-py3.10/lib64/python3.10/site-packages/sklearn/preprocessing/_label.py:114: DataConversionWarning: A column-vector y was passed when a 1d array was expected. Please change the shape of y to (n_samples, ), for example using ravel().\n",
      "  y = column_or_1d(y, warn=True)\n"
     ]
    }
   ],
   "source": [
    "# Example of using featurizers to do and undo data transformations\n",
    "\n",
    "from sklearn.preprocessing import OneHotEncoder, LabelEncoder\n",
    "\n",
    "featurizers = {\"one-hot\": OneHotEncoder(), \"label-encoder\": LabelEncoder()}\n",
    "\n",
    "# One hot only encodes matrices\n",
    "df = pd.DataFrame({\"x1\": [\"A\", \"A\", \"B\", \"C\"], \"y\": [0, 0, 1, 1]})\n",
    "transformed = featurizers[\"one-hot\"].fit_transform(df)\n",
    "print(transformed)\n",
    "print(featurizers[\"one-hot\"].inverse_transform(transformed))\n",
    "\n",
    "# Label encoders only encode vectors\n",
    "transformed = featurizers[\"label-encoder\"].fit_transform(df.y)\n",
    "print(transformed)\n",
    "print(featurizers[\"label-encoder\"].inverse_transform(transformed))\n",
    "\n",
    "\n",
    "# If one hot are used on vectors must reshape as a column matrix with .reshape(-1, 1)\n",
    "transformed = featurizers[\"one-hot\"].fit_transform(\n",
    "    df.x1.to_numpy().reshape(-1, 1)\n",
    ")\n",
    "print(transformed)\n",
    "print(featurizers[\"one-hot\"].inverse_transform(transformed))\n",
    "\n",
    "# If label encoder is used on matrices:\n",
    "#   ValueError: y should be a 1d array, got an array of shape (4, 2) instead.\n",
    "# transformed = featurizers['label-encoder'].fit_transform(df.to_numpy())\n",
    "# print(transformed)\n",
    "# print(featurizers['label-encoder'].inverse_transform(transformed))\n",
    "\n",
    "# If label encoder is used on column matrix it works fine\n",
    "# But we get a warning:\n",
    "#   sklearn/preprocessing/_label.py:114: DataConversionWarning: A column-vector y was passed when a 1d array was expected.\n",
    "#   Please change the shape of y to (n_samples, ), for example using ravel().\n",
    "transformed = featurizers[\"label-encoder\"].fit_transform(\n",
    "    df.y.to_numpy().reshape(-1, 1)\n",
    ")\n",
    "print(transformed)\n",
    "print(featurizers[\"label-encoder\"].inverse_transform(transformed))"
   ]
  }
 ],
 "metadata": {
  "kernelspec": {
   "display_name": "Python 3 (ipykernel)",
   "language": "python",
   "name": "python3"
  },
  "language_info": {
   "codemirror_mode": {
    "name": "ipython",
    "version": 3
   },
   "file_extension": ".py",
   "mimetype": "text/x-python",
   "name": "python",
   "nbconvert_exporter": "python",
   "pygments_lexer": "ipython3",
   "version": "3.10.13"
  }
 },
 "nbformat": 4,
 "nbformat_minor": 5
}
