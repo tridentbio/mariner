{
 "cells": [
  {
   "cell_type": "markdown",
   "id": "2a2f02d7-995c-4d19-849a-f1bcec562b4b",
   "metadata": {},
   "source": [
    "## Parse model config yaml file"
   ]
  },
  {
   "cell_type": "code",
   "execution_count": 1,
   "id": "0e84236c-a798-438e-9b0e-d5857af10d5a",
   "metadata": {},
   "outputs": [
    {
     "data": {
      "text/plain": [
       "ModelConfig(name='GNNExample', dataset=DatasetConfig(name='test_dataset_2', target_column='tpsa', feature_columns=['smiles', 'mwt']), featurizers=[AppmoleculefeaturizerLayerConfig(name='MolToGraphFeaturizer', input=['smiles'], type='app.features.model.featurizers.MoleculeFeaturizer', args=AppmoleculefeaturizerArgs(allow_unknown=False, sym_bond_list=True, per_atom_fragmentation=False))], layers=[TorchgeometricgcnconvLayerConfig(name='GCN1', input='MolToGraphFeaturizer', type='torch_geometric.nn.GCNConv', args=TorchgeometricgcnconvArgs(in_channels=30, out_channels=64)), TorchreluLayerConfig(name='GCN1_Activation', input='GCN1', type='torch.nn.ReLU'), TorchgeometricgcnconvLayerConfig(name='GCN2', input='GCN1_Activation', type='torch_geometric.nn.GCNConv', args=TorchgeometricgcnconvArgs(in_channels=64, out_channels=64)), TorchreluLayerConfig(name='GCN2_Activation', input='GCN2', type='torch.nn.ReLU'), TorchgeometricgcnconvLayerConfig(name='GCN3', input='GCN2_Activation', type='torch_geometric.nn.GCNConv', args=TorchgeometricgcnconvArgs(in_channels=64, out_channels=64)), TorchreluLayerConfig(name='GCN3_Activation', input='GCN3', type='torch.nn.ReLU'), AppglobalpoolingLayerConfig(name='AddPool', input='GCN3_Activation', type='app.features.model.layers.GlobalPooling', args=AppglobalpoolingArgs(aggr='sum')), AppconcatLayerConfig(name='Combiner', input=['GCN3_Activation', 'mwt'], type='app.features.model.layers.Concat'), TorchlinearLayerConfig(name='LinearJoined', input='AddPool', type='torch.nn.Linear', args=TorchlinearArgs(in_features=65, out_features=1)), TorchsigmoidLayerConfig(name='OutputSigmoid', input='LinearJoined', type='torch.nn.Sigmoid')])"
      ]
     },
     "execution_count": 1,
     "metadata": {},
     "output_type": "execute_result"
    }
   ],
   "source": [
    "from app.features.model.schema.configs import ModelConfig\n",
    "import yaml\n",
    "config = \"\"\"name: GNNExample\n",
    "dataset:\n",
    "  name: test_dataset_2\n",
    "  target_column: \"tpsa\"\n",
    "  feature_columns:\n",
    "    - smiles\n",
    "    - mwt\n",
    "featurizers:\n",
    "  - name: MolToGraphFeaturizer\n",
    "    type: app.features.model.featurizers.MoleculeFeaturizer\n",
    "    input:\n",
    "      - smiles\n",
    "    args:\n",
    "      allow_unknown: false\n",
    "      sym_bond_list: true\n",
    "      per_atom_fragmentation: false\n",
    "layers:\n",
    "  # Start fst branch (from featurizer)\n",
    "  - name: GCN1\n",
    "    type: torch_geometric.nn.GCNConv\n",
    "    args:\n",
    "      in_channels: 30\n",
    "      out_channels: 64\n",
    "    input: MolToGraphFeaturizer\n",
    "  - name: GCN1_Activation\n",
    "    type: torch.nn.ReLU\n",
    "    input: GCN1\n",
    "  - name: GCN2 \n",
    "    type: torch_geometric.nn.GCNConv\n",
    "    input: GCN1_Activation\n",
    "    args:\n",
    "      in_channels: 64\n",
    "      out_channels: 64\n",
    "  - name: GCN2_Activation\n",
    "    type: torch.nn.ReLU\n",
    "    input: GCN2\n",
    "  - name: GCN3 # an arbitrary name \n",
    "    type: torch_geometric.nn.GCNConv\n",
    "    input: GCN2_Activation\n",
    "    args:\n",
    "      in_channels: 64\n",
    "      out_channels: 64\n",
    "  - name: GCN3_Activation\n",
    "    type: torch.nn.ReLU\n",
    "    input: GCN3\n",
    "  - name: AddPool\n",
    "    type: app.features.model.layers.GlobalPooling\n",
    "    input: GCN3_Activation\n",
    "    args:\n",
    "      aggr: 'sum'\n",
    "    # End of fst branch\n",
    "    # Second branch would simply be linear layers in mwt\n",
    "  - name: Combiner\n",
    "    type: app.features.model.layers.Concat\n",
    "    input: ['GCN3_Activation','mwt']\n",
    "  - name: LinearJoined\n",
    "    type: torch.nn.Linear\n",
    "    input: AddPool\n",
    "    args:\n",
    "      in_features: 65\n",
    "      out_features: 1\n",
    "  - name: OutputSigmoid\n",
    "    type: torch.nn.Sigmoid\n",
    "    input: LinearJoined\n",
    "\"\"\"\n",
    "model = ModelConfig.from_yaml(config)\n",
    "model"
   ]
  },
  {
   "cell_type": "code",
   "execution_count": 2,
   "id": "61216733-ed52-48f4-9790-6528445bc99a",
   "metadata": {},
   "outputs": [
    {
     "name": "stderr",
     "output_type": "stream",
     "text": [
      "/usr/local/lib/python3.9/site-packages/tqdm/auto.py:22: TqdmWarning: IProgress not found. Please update jupyter and ipywidgets. See https://ipywidgets.readthedocs.io/en/stable/user_install.html\n",
      "  from .autonotebook import tqdm as notebook_tqdm\n"
     ]
    },
    {
     "name": "stdout",
     "output_type": "stream",
     "text": [
      "torch_geometric.nn.GCNConv gets passed (x, edge_index)\n",
      "torch.nn.ReLU gets passed (x)\n",
      "torch_geometric.nn.GCNConv gets passed (x, edge_index)\n",
      "torch.nn.ReLU gets passed (x)\n",
      "torch_geometric.nn.GCNConv gets passed (x, edge_index)\n",
      "torch.nn.ReLU gets passed (x)\n",
      "app.features.model.layers.GlobalPooling gets passed (x, batch)\n",
      "app.features.model.layers.Concat gets passed (x1, x2)\n",
      "torch.nn.Linear gets passed (x)\n",
      "torch.nn.Sigmoid gets passed (x)\n"
     ]
    }
   ],
   "source": [
    "import torch_geometric.nn as geom_nn\n",
    "from app.features.model.layers import GlobalPooling\n",
    "from app.features.model.layers import Concat\n",
    "# detour. how to check the forward signature?\n",
    "edge_index_classes = ( geom_nn.MessagePassing )\n",
    "pooling_classes = ( GlobalPooling )\n",
    "\n",
    "def is_message_passing(layer):\n",
    "    \"\"\" x = layer(x, edge_index) \"\"\"\n",
    "    return isinstance(layer, geom_nn.MessagePassing)\n",
    "\n",
    "def is_graph_pooling(layer):\n",
    "    \"\"\" x = layer(x, batch) \"\"\"\n",
    "    return isinstance(layer, pooling_classes)\n",
    "\n",
    "def is_concat_layer(layer):\n",
    "    return isinstance(layer, Concat)\n",
    "\n",
    "for layer in model.layers:\n",
    "    layer_instance = layer.create()\n",
    "    if is_message_passing(layer_instance):\n",
    "        print(f'{layer.type} gets passed (x, edge_index)')\n",
    "    elif is_graph_pooling(layer_instance):\n",
    "       print(f'{layer.type} gets passed (x, batch)')\n",
    "    elif is_concat_layer(layer_instance):\n",
    "        print(f'{layer.type} gets passed (x1, x2)')\n",
    "    else:\n",
    "        print(f'{layer.type} gets passed (x)')\n"
   ]
  },
  {
   "cell_type": "code",
   "execution_count": 3,
   "id": "c4a320b5-4060-4c31-a23e-b75354b26e1d",
   "metadata": {},
   "outputs": [
    {
     "data": {
      "image/png": "[encoded data removed]",
      "text/plain": [
       "<Figure size 432x288 with 1 Axes>"
      ]
     },
     "metadata": {},
     "output_type": "display_data"
    }
   ],
   "source": [
    "import networkx as nx\n",
    "nx.draw(model.make_graph(), with_labels=True)"
   ]
  },
  {
   "cell_type": "code",
   "execution_count": 7,
   "id": "c09757cb-602c-430b-9719-d0675baacab0",
   "metadata": {},
   "outputs": [],
   "source": [
    "# Implement module forward\n",
    "from typing import Dict, Union\n",
    "import torch\n",
    "import torch.nn\n",
    "import torch_geometric.nn as geom_nn\n",
    "from torch_geometric.data import Data\n",
    "\n",
    "\n",
    "CustomDatasetIn = Dict[str, Union[torch.Tensor, Data]]\n",
    "\n",
    "class CustomModel(torch.nn.Module):\n",
    "    def __init__(self, config: ModelConfig):\n",
    "        super().__init__()\n",
    "        self.config = config\n",
    "        layers_dict = {}\n",
    "        for layer in config.layers:\n",
    "            layers_dict[layer.name] = layer.create()\n",
    "        self.layers = torch.nn.ModuleDict(layers_dict)\n",
    "        self.layer_configs = {\n",
    "            l.type: l for l in config.layers\n",
    "        }\n",
    "        graph = config.make_graph()\n",
    "        self.topo_sorting = nx.topological_sort(graph)\n",
    "    \n",
    "    def forward(self, x: CustomDatasetIn):\n",
    "        outs = x.copy()\n",
    "        for idx, layer_name in enumerate(self.topo_sorting):\n",
    "            layer = self.layers[layer_name]\n",
    "            inputs = self.layer_configs[layer_name].input\n",
    "            if isinstance(inputs, str): # arrays only\n",
    "                inputs = [inputs]\n",
    "            inps = [ outs[input] for input in inputs ]\n",
    "            if is_message_passing(layer):\n",
    "                inp = inps[0]\n",
    "                x, edge_index = inp.x, inp.edge_index\n",
    "                outs[layer_name] = layer(x, edge_index)\n",
    "            elif is_graph_pooling(layer):\n",
    "                inp = inps[0]\n",
    "                x, batch = inp.x, inp.batch\n",
    "                outs[layer_name] = layer(x, batch)\n",
    "            else: # concat layers and normal layers\n",
    "                outs[layer_name] = layer(*inps)\n",
    "            last = outs[layer_name]\n",
    "        return last\n",
    "\n",
    "custom_model = CustomModel(model)"
   ]
  },
  {
   "cell_type": "code",
   "execution_count": 9,
   "id": "0e493d06-8a88-48e2-98f8-82123e2c120b",
   "metadata": {},
   "outputs": [
    {
     "data": {
      "text/plain": [
       "CustomModel(\n",
       "  (layers): ModuleDict(\n",
       "    (GCN1): GCNConv(30, 64)\n",
       "    (GCN1_Activation): ReLU()\n",
       "    (GCN2): GCNConv(64, 64)\n",
       "    (GCN2_Activation): ReLU()\n",
       "    (GCN3): GCNConv(64, 64)\n",
       "    (GCN3_Activation): ReLU()\n",
       "    (AddPool): GlobalPooling(aggr=sum)\n",
       "    (Combiner): Concat()\n",
       "    (LinearJoined): Linear(in_features=65, out_features=1, bias=True)\n",
       "    (OutputSigmoid): Sigmoid()\n",
       "  )\n",
       ")"
      ]
     },
     "execution_count": 9,
     "metadata": {},
     "output_type": "execute_result"
    }
   ],
   "source": [
    "custom_model"
   ]
  },
  {
   "cell_type": "code",
   "execution_count": null,
   "id": "3fbfb685-bcc2-467d-85ff-640632681c8d",
   "metadata": {},
   "outputs": [],
   "source": [
    "\n",
    "dataset_input = {\n",
    "    'MolToGraphFeaturizer': Data()\n",
    "}"
   ]
  }
 ],
 "metadata": {
  "kernelspec": {
   "display_name": "Python 3 (ipykernel)",
   "language": "python",
   "name": "python3"
  },
  "language_info": {
   "codemirror_mode": {
    "name": "ipython",
    "version": 3
   },
   "file_extension": ".py",
   "mimetype": "text/x-python",
   "name": "python",
   "nbconvert_exporter": "python",
   "pygments_lexer": "ipython3",
   "version": "3.9.7"
  }
 },
 "nbformat": 4,
 "nbformat_minor": 5
}
