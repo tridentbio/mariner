{
 "cells": [
  {
   "cell_type": "markdown",
   "id": "2a2f02d7-995c-4d19-849a-f1bcec562b4b",
   "metadata": {},
   "source": [
    "## Parse model config yaml file"
   ]
  },
  {
   "cell_type": "code",
   "execution_count": 10,
   "id": "0e84236c-a798-438e-9b0e-d5857af10d5a",
   "metadata": {},
   "outputs": [
    {
     "data": {
      "text/plain": [
       "ModelConfig(name='GNNExample', dataset=DatasetConfig(name='test_dataset_2', target_column='tpsa', feature_columns=['smiles', 'mwt']), featurizers=[AppmoleculefeaturizerLayerConfig(is_input_layer=True, is_output_layer=True, name='MolToGraphFeaturizer', forward=None, type='app.features.model.featurizers.MoleculeFeaturizer')], layers=[TorchgeometricgcnconvLayerConfig(is_input_layer=True, is_output_layer=True, name='GCN1', forward=None, type='torch_geometric.nn.GCNConv', args=TorchgeometricgcnconvArgs(in_channels=30, out_channels=64)), TorchreluLayerConfig(is_input_layer=True, is_output_layer=True, name='GCN1_Activation', forward=None, type='torch.nn.ReLU'), TorchgeometricgcnconvLayerConfig(is_input_layer=True, is_output_layer=True, name='GCN2', forward=None, type='torch_geometric.nn.GCNConv', args=TorchgeometricgcnconvArgs(in_channels=64, out_channels=64)), TorchreluLayerConfig(is_input_layer=True, is_output_layer=True, name='GCN2_Activation', forward=None, type='torch.nn.ReLU'), TorchgeometricgcnconvLayerConfig(is_input_layer=True, is_output_layer=True, name='GCN3', forward=None, type='torch_geometric.nn.GCNConv', args=TorchgeometricgcnconvArgs(in_channels=64, out_channels=64)), TorchreluLayerConfig(is_input_layer=True, is_output_layer=True, name='GCN3_Activation', forward=None, type='torch.nn.ReLU'), AppconcatLayerConfig(is_input_layer=True, is_output_layer=True, name='AddPool', forward=None, type='app.features.model.layers.Concat'), AppconcatLayerConfig(is_input_layer=True, is_output_layer=True, name='Combiner', forward=None, type='app.features.model.layers.Concat'), TorchlinearLayerConfig(is_input_layer=True, is_output_layer=True, name='LinearJoined', forward=None, type='torch.nn.Linear', args=TorchlinearArgs(in_features=65, out_features=1)), TorchsigmoidLayerConfig(is_input_layer=True, is_output_layer=True, name='Output', forward=None, type='torch.nn.Sigmoid')])"
      ]
     },
     "execution_count": 10,
     "metadata": {},
     "output_type": "execute_result"
    }
   ],
   "source": [
    "from app.features.model.schema.configs import ModelConfig\n",
    "import yaml\n",
    "config = \"\"\"name: GNNExample\n",
    "dataset:\n",
    "  name: test_dataset_2\n",
    "  target_column: \"tpsa\"\n",
    "  feature_columns:\n",
    "    - smiles\n",
    "    - mwt\n",
    "featurizers:\n",
    "  - name: MolToGraphFeaturizer\n",
    "    type: app.features.model.featurizers.MoleculeFeaturizer\n",
    "    input:\n",
    "      - smiles\n",
    "    args:\n",
    "      allow_unknown: false\n",
    "      sym_bond_list: true\n",
    "      per_atom_fragmentation: false\n",
    "layers:\n",
    "  # Start fst branch (from featurizer)\n",
    "  - name: GCN1\n",
    "    type: torch_geometric.nn.GCNConv\n",
    "    args:\n",
    "      in_channels: 30\n",
    "      out_channels: 64\n",
    "    input: MolToGraphFeaturizer\n",
    "  - name: GCN1_Activation\n",
    "    type: torch.nn.ReLU\n",
    "    input: GCN1\n",
    "  - name: GCN2 \n",
    "    type: torch_geometric.nn.GCNConv\n",
    "    input: GCN1_Activation\n",
    "    args:\n",
    "      in_channels: 64\n",
    "      out_channels: 64\n",
    "  - name: GCN2_Activation\n",
    "    type: torch.nn.ReLU\n",
    "    input: GCN2\n",
    "  - name: GCN3 # an arbitrary name \n",
    "    type: torch_geometric.nn.GCNConv\n",
    "    input: GCN2_Activation\n",
    "    args:\n",
    "      in_channels: 64\n",
    "      out_channels: 64\n",
    "  - name: GCN3_Activation\n",
    "    type: torch.nn.ReLU\n",
    "    input: GCN3\n",
    "  # End of fst branch\n",
    "  # Second branch would simply be linear layers in mwt\n",
    "  - name: AddPool\n",
    "    type: app.features.model.layers.Concat\n",
    "  - name: Combiner\n",
    "    type: app.features.model.layers.Concat\n",
    "    input: GCN3_Activation\n",
    "    args:\n",
    "      aggr: 'sum'\n",
    "  - name: LinearJoined\n",
    "    type: torch.nn.Linear\n",
    "    input: AddPool\n",
    "    args:\n",
    "      in_features: 65\n",
    "      out_features: 1\n",
    "  - name: Output\n",
    "    type: torch.nn.Sigmoid\n",
    "    input: LinearJoined\n",
    "\"\"\"\n",
    "model = ModelConfig.from_yaml(config)\n",
    "model"
   ]
  },
  {
   "cell_type": "code",
   "execution_count": null,
   "id": "451ea74c-ee84-48da-8e32-a69c1a93aa12",
   "metadata": {},
   "outputs": [],
   "source": [
    "# Implement module forward"
   ]
  },
  {
   "cell_type": "code",
   "execution_count": null,
   "id": "0e493d06-8a88-48e2-98f8-82123e2c120b",
   "metadata": {},
   "outputs": [],
   "source": [
    "# Test w/ seed fixo"
   ]
  }
 ],
 "metadata": {
  "kernelspec": {
   "display_name": "Python 3 (ipykernel)",
   "language": "python",
   "name": "python3"
  },
  "language_info": {
   "codemirror_mode": {
    "name": "ipython",
    "version": 3
   },
   "file_extension": ".py",
   "mimetype": "text/x-python",
   "name": "python",
   "nbconvert_exporter": "python",
   "pygments_lexer": "ipython3",
   "version": "3.9.7"
  }
 },
 "nbformat": 4,
 "nbformat_minor": 5
}
