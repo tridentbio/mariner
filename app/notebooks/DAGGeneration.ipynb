{
 "cells": [
  {
   "cell_type": "markdown",
   "id": "5f3e23b1-9a07-4588-91c7-468578f6027b",
   "metadata": {},
   "source": [
    "# Imports"
   ]
  },
  {
   "cell_type": "code",
   "execution_count": 2,
   "id": "312c0f4f-9873-4f9a-a3e7-2dae10704e06",
   "metadata": {},
   "outputs": [],
   "source": [
    "import yaml\n",
    "from yaml import Loader\n",
    "import networkx as nx"
   ]
  },
  {
   "cell_type": "markdown",
   "id": "dd2f03ef-dd2c-4c33-abd9-3d3aae605ce3",
   "metadata": {},
   "source": [
    "# Parse the YAML file"
   ]
  },
  {
   "cell_type": "code",
   "execution_count": 3,
   "id": "e6d31677-f190-4166-9096-583f5446cd59",
   "metadata": {},
   "outputs": [],
   "source": [
    "config = \"\"\"name: GNNExample\n",
    "dataset:\n",
    "  name: test_dataset_2\n",
    "  target_column: \"exp\"\n",
    "  feature_columns:\n",
    "    - smiles\n",
    "featurizer:\n",
    "  name: MolToGraphFeaturizer\n",
    "  type: app.features.model.featurizers.MoleculeFeaturizer\n",
    "  column_names:\n",
    "    - smiles\n",
    "  args:\n",
    "    allow_unknown: false\n",
    "    sym_bond_list: true\n",
    "    per_atom_fragmentation: false\n",
    "  column_names: ['smiles']\n",
    "layers:\n",
    "  - name: GCN1\n",
    "    type: torch_geometric.nn.GCNConv\n",
    "    args:\n",
    "      in_channels: 30\n",
    "      out_channels: 64\n",
    "    input_layer: true # input_shape must match GINConv\n",
    "    activation: relu\n",
    "    input: MolToGraphFeaturizer\n",
    "  - name: GCN2 \n",
    "    type: torch_geometric.nn.GCNConv\n",
    "    args:\n",
    "      in_channels: 64\n",
    "      out_channels: 64\n",
    "    activation: relu\n",
    "    input: GCN1\n",
    "  - name: GCN3 # an arbitrary name \n",
    "    type: torch_geometric.nn.GCNConv\n",
    "    args:\n",
    "      in_channels: 64\n",
    "      out_channels: 64\n",
    "    activation: relu\n",
    "    input: GCN2\n",
    "  - name: GCN4\n",
    "    type: torch_geometric.nn.GCNConv\n",
    "    args:\n",
    "      in_channels: 64\n",
    "      out_channels: 64\n",
    "    activation: ReLU\n",
    "    input: GCN3\n",
    "  - name: Pool4x1\n",
    "    type: torch_geometric.nn.global_add_pool\n",
    "    input: GCN4\n",
    "  - name: Output\n",
    "    type: torch.nn.Linear \n",
    "    args: \n",
    "      in_features: 64\n",
    "      out_features: 1\n",
    "    input: Pool4x1\n",
    "    output_layer: true\n",
    "\"\"\"\n",
    "\n",
    "config = yaml.load(config, Loader=Loader)"
   ]
  },
  {
   "cell_type": "markdown",
   "id": "7b5a6dd1-4871-4043-a3ce-73ed5f2f3203",
   "metadata": {},
   "source": [
    "# Setup the directed graph with `networkx`"
   ]
  },
  {
   "cell_type": "code",
   "execution_count": 4,
   "id": "c94cedf1-1441-46ef-a53c-8a356c6ac84d",
   "metadata": {},
   "outputs": [
    {
     "name": "stdout",
     "output_type": "stream",
     "text": [
      "DiGraph with 1 nodes and 0 edges\n"
     ]
    }
   ],
   "source": [
    "net_graph = nx.DiGraph()\n",
    "\n",
    "# Add the featurizer manually, since it's not in the layers object in the current config\n",
    "## Moving to production, we should figure out the best way to link up the input values\n",
    "## (either raw or through some featurizer/transform)\n",
    "net_graph.add_node('MolToGraphFeaturizer')\n",
    "print(net_graph)"
   ]
  },
  {
   "cell_type": "code",
   "execution_count": 5,
   "id": "db63fc4a-efd8-45e5-b112-477272d51ff5",
   "metadata": {},
   "outputs": [
    {
     "name": "stdout",
     "output_type": "stream",
     "text": [
      "DiGraph with 7 nodes and 0 edges\n"
     ]
    }
   ],
   "source": [
    "# First add all the other nodes\n",
    "for layer in config['layers']:\n",
    "    net_graph.add_node(layer['name'])\n",
    "\n",
    "print(net_graph)"
   ]
  },
  {
   "cell_type": "code",
   "execution_count": 6,
   "id": "7275d9c2-229f-4fc5-88d9-f45907e03219",
   "metadata": {},
   "outputs": [
    {
     "name": "stdout",
     "output_type": "stream",
     "text": [
      "DiGraph with 7 nodes and 6 edges\n"
     ]
    }
   ],
   "source": [
    "# Then add all the edges\n",
    "for layer in config['layers']:\n",
    "    # Handle one input\n",
    "    if isinstance(layer['input'], str):\n",
    "        net_graph.add_edge(layer['input'], layer['name'])\n",
    "    \n",
    "    # Handle iterable of inputs\n",
    "    else:\n",
    "        for input_value in layer['input']:\n",
    "            net_graph.add_edge(input_value, layer['name'])\n",
    "            \n",
    "print(net_graph)"
   ]
  },
  {
   "cell_type": "code",
   "execution_count": 7,
   "id": "ffeb38ab-52a0-4617-a7b4-0839e3e4770e",
   "metadata": {},
   "outputs": [
    {
     "data": {
      "image/png": "[encoded data removed]",
      "text/plain": [
       "<Figure size 432x288 with 1 Axes>"
      ]
     },
     "metadata": {},
     "output_type": "display_data"
    }
   ],
   "source": [
    "# We can print the graph\n",
    "nx.draw(net_graph)"
   ]
  },
  {
   "cell_type": "markdown",
   "id": "75c9c235-d8f1-40d6-a82b-36fe3776f3b2",
   "metadata": {},
   "source": [
    "# Running checks"
   ]
  },
  {
   "cell_type": "code",
   "execution_count": 8,
   "id": "562d6183-b20c-4cf8-8146-746a1ed537af",
   "metadata": {},
   "outputs": [
    {
     "data": {
      "text/plain": [
       "True"
      ]
     },
     "execution_count": 8,
     "metadata": {},
     "output_type": "execute_result"
    }
   ],
   "source": [
    "# Check to make sure the graph is connected (only one graph)\n",
    "## Conversion to undirected view is required here.\n",
    "## Do not convert to undirected, use a view.\n",
    "assert nx.is_connected(net_graph.to_undirected(as_view=True))\n",
    "\n",
    "# By using the view, the original graph should remain directed\n",
    "net_graph.is_directed()"
   ]
  },
  {
   "cell_type": "code",
   "execution_count": 9,
   "id": "7f6ad168-4455-4438-a981-4974ba345ae4",
   "metadata": {},
   "outputs": [],
   "source": [
    "# We then need to verify that graph is directed acyclic\n",
    "assert nx.is_directed_acyclic_graph(net_graph)"
   ]
  },
  {
   "cell_type": "markdown",
   "id": "42652918-a09e-45cb-ad76-fe1ce66247e7",
   "metadata": {},
   "source": [
    "If both checks pass, we can retrieve a topoligical ordering that we can use to instantiate the network."
   ]
  },
  {
   "cell_type": "markdown",
   "id": "c4008545-4963-40c4-84b9-43ca225793c5",
   "metadata": {},
   "source": [
    "# Retrieving sorted nodes\n",
    "\n",
    "To instantiate the network, we'll need a topological sort of the nodes in the graph. A topological sort oders the vertices of the directed graph [\"such that for every directed edge uv from vertex u to vertex v, u comes before v in the ordering.\"](https://en.wikipedia.org/wiki/Topological_sorting)"
   ]
  },
  {
   "cell_type": "code",
   "execution_count": 10,
   "id": "fca8436d-d0e4-4549-8315-983c17106d6b",
   "metadata": {},
   "outputs": [
    {
     "data": {
      "text/plain": [
       "['MolToGraphFeaturizer', 'GCN1', 'GCN2', 'GCN3', 'GCN4', 'Pool4x1', 'Output']"
      ]
     },
     "execution_count": 10,
     "metadata": {},
     "output_type": "execute_result"
    }
   ],
   "source": [
    "list(nx.topological_sort(net_graph))"
   ]
  },
  {
   "cell_type": "markdown",
   "id": "f9f47493-e363-4ae4-9180-d46491549dff",
   "metadata": {},
   "source": [
    "In this case, the ordering is trivial, but that will not always be the case. Below is a branched example. I have omitted the unnecessary parts of the yaml file here for simplicity. "
   ]
  },
  {
   "cell_type": "code",
   "execution_count": 11,
   "id": "e9eebb63-a923-49ea-ab22-3206b1a220a8",
   "metadata": {},
   "outputs": [],
   "source": [
    "config = \"\"\"name: GNNExample2\n",
    "layers:\n",
    "  # Start the first branch\n",
    "  - name: GCN1\n",
    "  - name: GCN2 \n",
    "    input: GCN1\n",
    "  - name: GCN3 \n",
    "    input: GCN2\n",
    "  - name: GCN4\n",
    "    input: GCN3\n",
    "  - name: Pool\n",
    "    input: GCN4\n",
    "\n",
    "  # Start the second branch\n",
    "  - name: Embedding\n",
    "  - name: Linear1\n",
    "    input: Embedding\n",
    "  - name: Linear2\n",
    "    input: Linear1\n",
    "\n",
    "  # Handle the last layer\n",
    "  - name: Concatenate\n",
    "    input: [Pool, Linear2]\n",
    "  - name: Output\n",
    "    input: Concatenate\n",
    "    output_layer: true\n",
    "\"\"\""
   ]
  },
  {
   "cell_type": "code",
   "execution_count": 46,
   "id": "aa6c6c46-3bce-4782-b210-b3e4f464fc58",
   "metadata": {},
   "outputs": [],
   "source": [
    "def create_dag(yaml_config):\n",
    "    \"\"\"Function to generate the DAG and run checks\"\"\"\n",
    "    \n",
    "    # Load the yaml\n",
    "    config = yaml.load(yaml_config, Loader=Loader)\n",
    "    \n",
    "    # Instantiate the graph\n",
    "    net_graph = nx.DiGraph()\n",
    "    \n",
    "    # First add all the other nodes\n",
    "    for layer in config['layers']:\n",
    "        net_graph.add_node(layer['name'])\n",
    "        \n",
    "    # Then add all the edges\n",
    "    for layer in config['layers']:\n",
    "        \n",
    "        if 'input' in layer:\n",
    "        \n",
    "            # Handle one input\n",
    "            if isinstance(layer['input'], str):\n",
    "                net_graph.add_edge(layer['input'], layer['name'])\n",
    "\n",
    "            # Handle iterable of inputs\n",
    "            else:\n",
    "                for input_value in layer['input']:\n",
    "                    net_graph.add_edge(input_value, layer['name'])\n",
    "\n",
    "    print(f'Graph is connected: {nx.is_connected(net_graph.to_undirected(as_view=True))}')\n",
    "    print(f'Graph is a DAG: {nx.is_directed_acyclic_graph(net_graph)}')\n",
    "    \n",
    "    nx.draw(net_graph)\n",
    "    \n",
    "    return net_graph"
   ]
  },
  {
   "cell_type": "code",
   "execution_count": 47,
   "id": "132753e8-c710-4cd7-a2f2-5c08ddd23fa8",
   "metadata": {},
   "outputs": [
    {
     "name": "stdout",
     "output_type": "stream",
     "text": [
      "Graph is connected: True\n",
      "Graph is a DAG: True\n"
     ]
    },
    {
     "data": {
      "image/png": "[encoded data removed]",
      "text/plain": [
       "<Figure size 432x288 with 1 Axes>"
      ]
     },
     "metadata": {},
     "output_type": "display_data"
    }
   ],
   "source": [
    "# The drawing is not a nice flowchart style diagram, but it does the job.\n",
    "## Shows that the graph is connected and is, in fact a DAG.\n",
    "net_config = create_dag(config)"
   ]
  },
  {
   "cell_type": "markdown",
   "id": "dae2a43c-4b6d-4fd8-bfa7-07fe1d42b822",
   "metadata": {
    "tags": []
   },
   "source": [
    "# Network generation pseudocode\n",
    "\n",
    "Below is a block of pseudocode to generate the network architecture and control flow from the DAG. In the code block below `forward\n",
    "\n",
    "```\n",
    "for node in nx.topological_sort(net_graph):\n",
    "\n",
    "    # Add the layer type to the `__init__` function\n",
    "    net.add_layer(type = node.type, name = node.name, args=node.args)\n",
    "    \n",
    "    # Add the appropriate step to the `forward` class method\n",
    "    net.forward_pass.add(layer_name=node.name, args=node.input)\n",
    "    \n",
    "```\n",
    "\n",
    "Obviously, this will take a lot of effort to implement, but using the graph traversal in this way will guarantee that we'll generate a valid DAG for the network."
   ]
  },
  {
   "cell_type": "code",
   "execution_count": null,
   "id": "353fd8f2-ca04-4b8c-a0e1-b8d7626106a7",
   "metadata": {},
   "outputs": [],
   "source": [
    "config = \"\"\"name: GNNExample2\n",
    "layers:\n",
    "  # Start the first branch\n",
    "  - name: GCN1\n",
    "  - name: GCN2 \n",
    "    input: GCN1\n",
    "  - name: GCN3 \n",
    "    input: GCN2\n",
    "  - name: GCN4\n",
    "    input: GCN3\n",
    "  - name: Pool\n",
    "    input: GCN4\n",
    "\n",
    "  # Start the second branch\n",
    "  - name: Embedding\n",
    "  - name: Linear1\n",
    "    input: Embedding\n",
    "  - name: Linear2\n",
    "    input: Linear1\n",
    "\n",
    "  # Handle the last layer\n",
    "  - name: Concatenate\n",
    "    input: [Pool, Linear2]\n",
    "  - name: Output\n",
    "    input: Concatenate\n",
    "    output_layer: true\n",
    "\"\"\""
   ]
  }
 ],
 "metadata": {
  "kernelspec": {
   "display_name": "Python 3 (ipykernel)",
   "language": "python",
   "name": "python3"
  },
  "language_info": {
   "codemirror_mode": {
    "name": "ipython",
    "version": 3
   },
   "file_extension": ".py",
   "mimetype": "text/x-python",
   "name": "python",
   "nbconvert_exporter": "python",
   "pygments_lexer": "ipython3",
   "version": "3.9.7"
  }
 },
 "nbformat": 4,
 "nbformat_minor": 5
}
