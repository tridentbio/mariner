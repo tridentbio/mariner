{
 "cells": [
  {
   "cell_type": "code",
   "execution_count": 1,
   "id": "7b780db1-8493-49a6-8a93-a7d6ed71a615",
   "metadata": {},
   "outputs": [
    {
     "name": "stderr",
     "output_type": "stream",
     "text": [
      "/usr/local/lib/python3.9/site-packages/tqdm/auto.py:22: TqdmWarning: IProgress not found. Please update jupyter and ipywidgets. See https://ipywidgets.readthedocs.io/en/stable/user_install.html\n",
      "  from .autonotebook import tqdm as notebook_tqdm\n",
      "File descriptor limit 1024 is too low for production servers and may result in connection errors. At least 8192 is recommended. --- Fix with 'ulimit -n 8192'\n"
     ]
    },
    {
     "data": {
      "text/plain": [
       "<ray.serve.client.ServeControllerClient at 0x7f70116efac0>"
      ]
     },
     "execution_count": 1,
     "metadata": {},
     "output_type": "execute_result"
    }
   ],
   "source": [
    "import ray\n",
    "import time\n",
    "import asyncio\n",
    "from ray import serve\n",
    "import pandas as pd\n",
    "import mlflow.pyfunc\n",
    "import mlflow\n",
    "import os\n",
    "from app.main import app\n",
    "from app.features.model.crud import repo as models_repo\n",
    "from app.db.session import SessionLocal\n",
    "from app.features.model.schema.model import Model\n",
    "\n",
    "address = 'ray://ray-head:10001'\n",
    "if ray.is_initialized:\n",
    "    ray.shutdown()\n",
    "ray.init(address=address)\n",
    "\n",
    "serve.start(detached=True)"
   ]
  },
  {
   "cell_type": "code",
   "execution_count": 5,
   "id": "e4f6e37e-f98c-47a4-a21d-48e76f5a08a2",
   "metadata": {},
   "outputs": [],
   "source": [
    "@serve.deployment\n",
    "class MLflowDeployment:\n",
    "    def __init__(self, model_uri):\n",
    "        self.model = mlflow.pyfunc.load_model(model_uri=model_uri)\n",
    "\n",
    "    async def __call__(self, request):\n",
    "        csv_text = await request.body() # The body contains just raw csv text.\n",
    "        df = pd.read_csv(csv_text)\n",
    "        return self.model.predict(df)\n",
    "\n",
    "def deploy_model(deployment_name: str, model: Model, route_prefix: str):\n",
    "    MLflowDeployment.options(name=deployment_name, route_prefix=route_prefix).deploy(model.get_model_uri())\n"
   ]
  },
  {
   "cell_type": "code",
   "execution_count": null,
   "id": "58d0734a-d712-468d-a06c-b305b18a0645",
   "metadata": {},
   "outputs": [
    {
     "name": "stderr",
     "output_type": "stream",
     "text": [
      "\u001b[2m\u001b[36m(pid=gcs_server)\u001b[0m E0616 13:48:11.907717164      24 tcp_server_posix.cc:213]    Failed accept4: Too many open files\n",
      "\u001b[2m\u001b[33m(raylet)\u001b[0m [2022-06-16 13:49:12,650 E 73 73] (raylet) worker_pool.cc:502: Some workers of the worker process(37830) have not registered within the timeout. The process is still alive, probably it's hanging during start.\n"
     ]
    }
   ],
   "source": [
    "## Get a model from db\n",
    "db = SessionLocal()\n",
    "db_models, total = models_repo.get_paginated(db, page=0, per_page=15)\n",
    "model = Model.from_orm(db_models[0])\n",
    "## Deploy the model\n",
    "deployment_name = f'{model.name}-deployment'\n",
    "route_prefix = '/example-deployment2'\n",
    "deploy_model(deployment_name, model, route_prefix)"
   ]
  },
  {
   "cell_type": "code",
   "execution_count": null,
   "id": "e402a5da-9801-41b9-b191-6752b1e152dd",
   "metadata": {},
   "outputs": [],
   "source": []
  }
 ],
 "metadata": {
  "kernelspec": {
   "display_name": "Python 3 (ipykernel)",
   "language": "python",
   "name": "python3"
  },
  "language_info": {
   "codemirror_mode": {
    "name": "ipython",
    "version": 3
   },
   "file_extension": ".py",
   "mimetype": "text/x-python",
   "name": "python",
   "nbconvert_exporter": "python",
   "pygments_lexer": "ipython3",
   "version": "3.9.7"
  }
 },
 "nbformat": 4,
 "nbformat_minor": 5
}
